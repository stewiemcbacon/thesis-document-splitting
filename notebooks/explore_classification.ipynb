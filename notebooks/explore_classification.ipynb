{
 "cells": [
  {
   "cell_type": "code",
   "execution_count": 1,
   "id": "c4c80a58-7988-4445-9b30-8fe81dfbc73a",
   "metadata": {},
   "outputs": [],
   "source": [
    "import pandas as pd\n",
    "import json\n",
    "\n",
    "from sklearn.cluster import KMeans\n",
    "from sklearn.preprocessing import LabelEncoder, OneHotEncoder, LabelBinarizer\n",
    "from sklearn.linear_model import LogisticRegression\n",
    "from sklearn.metrics import accuracy_score\n",
    "\n",
    "\n",
    "from collections import Counter, defaultdict\n",
    "import numpy as np\n",
    "import os\n",
    "from tqdm import tqdm\n",
    "\n",
    "import fitz"
   ]
  },
  {
   "cell_type": "markdown",
   "id": "570e1758-e40c-49fe-8b05-897dc018fc6e",
   "metadata": {},
   "source": [
    "### Import data"
   ]
  },
  {
   "cell_type": "code",
   "execution_count": 2,
   "id": "18d1dbb1-72a7-45d2-b18a-27ad7ea2cf67",
   "metadata": {},
   "outputs": [
    {
     "data": {
      "text/plain": [
       "[36, 30, 17, 12, 3, 19, 18, 4, 46]"
      ]
     },
     "execution_count": 2,
     "metadata": {},
     "output_type": "execute_result"
    }
   ],
   "source": [
    "with open('corpus1/TrainTestSet/Trainset/Doclengths_of_the_individual_docs_TRAIN.json', 'r') as f:\n",
    "    data = json.load(f)"
   ]
  },
  {
   "cell_type": "markdown",
   "id": "e506ffd7-c5cd-45a0-ba0f-4e5fb8075e06",
   "metadata": {},
   "source": [
    "### Testing"
   ]
  },
  {
   "cell_type": "code",
   "execution_count": 3,
   "id": "5fda19ff-c25b-4d40-94d7-76ae1704a178",
   "metadata": {},
   "outputs": [],
   "source": [
    "# a = pd.read_csv('corpus1/TrainTestSet/Trainset/amsterdam_files_df.csv',index_col = 0)\n",
    "# b = a[a['name'].str.contains('868212')]\n",
    "# b[b['page'] == 2]['text'].iloc[0]\n",
    "# b = b.sort_values(by = 'page')\n",
    "# b[b['page'] == 39]['text'].iloc[0]"
   ]
  },
  {
   "cell_type": "code",
   "execution_count": 21,
   "id": "6991d37c-2bb7-41a7-a1ec-c1be03cdb26d",
   "metadata": {},
   "outputs": [
    {
     "data": {
      "text/plain": [
       "page 9 of corpus1/TrainTestSet/Trainset/data/967331_files.zip__concatenated.pdf"
      ]
     },
     "execution_count": 21,
     "metadata": {},
     "output_type": "execute_result"
    }
   ],
   "source": [
    "doc = fitz.open('corpus1/TrainTestSet/Trainset/data/967331_files.zip__concatenated.pdf')\n",
    "doc[9]"
   ]
  },
  {
   "cell_type": "markdown",
   "id": "2d148caf-7bd0-4144-9919-19affd0af05f",
   "metadata": {},
   "source": [
    "### Get header and footer functions"
   ]
  },
  {
   "cell_type": "code",
   "execution_count": 24,
   "id": "eb2dc297-5a04-4280-9a46-9cc82966f467",
   "metadata": {},
   "outputs": [
    {
     "data": {
      "text/plain": [
       "(0,\n",
       " 'Datum aanvraag: 15 j\\nanuari 2015 \\nAanvraagnummer: 1607213 \\nPagina 2 van 2\\n')"
      ]
     },
     "execution_count": 24,
     "metadata": {},
     "output_type": "execute_result"
    }
   ],
   "source": [
    "from operator import itemgetter\n",
    "    \n",
    "def get_header(page, doc):\n",
    "    if not doc:\n",
    "        return 'empty'\n",
    "    \n",
    "    header = min(doc, key=itemgetter(1))\n",
    "\n",
    "    if header[1] > 30:\n",
    "        return 0\n",
    "    \n",
    "    elif 'image' in header[4]:\n",
    "        return 0\n",
    "    else:\n",
    "        return header[4]\n",
    "    \n",
    "def get_footer(page, doc):\n",
    "    if not doc:\n",
    "        return 'empty'\n",
    "    \n",
    "    doc_length = page.rect[-1]\n",
    "    \n",
    "    footer = max(doc, key=itemgetter(1))\n",
    "    \n",
    "    if footer[3] < doc_length * .95:\n",
    "        return 0\n",
    "    \n",
    "    elif 'image' in footer[4]:\n",
    "        return 0\n",
    "    else:\n",
    "        return footer[4]\n",
    "\n",
    "def get_header_footer(page):\n",
    "    doc = page.get_text('blocks')\n",
    "    return get_header(page, doc), get_footer(page, doc)\n",
    "\n",
    "get_header_footer(doc[1])"
   ]
  },
  {
   "cell_type": "markdown",
   "id": "944b78ac-cf9b-4ebb-899b-123fd549d5e2",
   "metadata": {},
   "source": [
    "### Function to check whether the font of a page differs from the previous page(s)"
   ]
  },
  {
   "cell_type": "code",
   "execution_count": 6,
   "id": "67a525a5-2f55-4404-b919-f0ce0285f93a",
   "metadata": {},
   "outputs": [],
   "source": [
    "def font_diff(df, pages = 3):\n",
    "    is_diff = []\n",
    "\n",
    "    for i in tqdm(range(len(df))):\n",
    "        a = df.iloc[i]['fonts']\n",
    "        b = set()\n",
    "\n",
    "        for y in range(1,pages+1):\n",
    "            if type(df.shift(y).iloc[i]['fonts']) != float:\n",
    "                b.update(df.shift(y).iloc[i]['fonts'])\n",
    "\n",
    "        if len(b) == 0:\n",
    "            is_diff.append(1)\n",
    "\n",
    "        elif bool(a & b):\n",
    "            is_diff.append(0)\n",
    "        else:\n",
    "            is_diff.append(1)\n",
    "\n",
    "    return is_diff"
   ]
  },
  {
   "cell_type": "markdown",
   "id": "65d30b2c-b3dd-4733-b1c8-fb1fd49f073f",
   "metadata": {},
   "source": [
    "### Create dataframe with features containing all concatenated training documents"
   ]
  },
  {
   "cell_type": "code",
   "execution_count": 7,
   "id": "81720d8e-4b00-425d-a7cd-35f8cc8fc181",
   "metadata": {},
   "outputs": [
    {
     "name": "stderr",
     "output_type": "stream",
     "text": [
      "100%|██████████| 113/113 [07:41<00:00,  4.09s/it]\n",
      "100%|██████████| 113/113 [00:05<00:00, 20.17it/s]\n",
      "100%|██████████| 19101/19101 [01:34<00:00, 201.52it/s]\n"
     ]
    }
   ],
   "source": [
    "pd.set_option('display.max_rows', 20)\n",
    "path = 'corpus1/TrainTestSet/Trainset/data/'\n",
    "a = defaultdict(list)\n",
    "\n",
    "for r, d, f in os.walk(path):\n",
    "    if '.ipynb_checkpoints' in d:\n",
    "        d.remove('.ipynb_checkpoints')\n",
    "    for file in tqdm(f):\n",
    "        doc = fitz.open(r+file)\n",
    "        \n",
    "        for page in doc:\n",
    "            \n",
    "            try:\n",
    "                header, footer = get_header_footer(page)\n",
    "                a['header'].append(header)\n",
    "                a['footer'].append(footer)\n",
    "            except:\n",
    "                continue\n",
    "                \n",
    "            a['file_name'].append(file.split('__')[0])\n",
    "            a['page'].append(page.number+1)\n",
    "            \n",
    "            cropbox = page.rect[-2:]\n",
    "            a['cropbox_x'].append(cropbox[0])\n",
    "            a['cropbox_y'].append(cropbox[1])\n",
    "            \n",
    "            fonts = set()\n",
    "            for font in page.get_fonts():\n",
    "                fonts.add(font[3].split('+')[0])\n",
    "            if fonts:\n",
    "                a['fonts'].append(fonts)\n",
    "            else:\n",
    "                a['fonts'].append({'none'})\n",
    "            \n",
    "            if page.get_text() == '':\n",
    "                a['isImage'].append(1)\n",
    "            else:\n",
    "                a['isImage'].append(0)\n",
    "\n",
    "df = pd.DataFrame(a)\n",
    "df['label'] = 0\n",
    "\n",
    "### Label the first page of a document as 1 according to golden standard\n",
    "for file in tqdm(df['file_name'].unique()):\n",
    "    split = 1\n",
    "    for i in data[file]:\n",
    "        df.loc[(df['file_name'] == file) & (df['page'] == split), 'label'] = 1\n",
    "        split+=i\n",
    "\n",
    "df['crop_is_diff'] = df['cropbox_x'] != (df['cropbox_x'].shift())\n",
    "df['crop_is_diff'] = df['crop_is_diff'].apply(lambda x: 1 if x == True else 0)\n",
    "df['font_is_diff'] = font_diff(df, 3)\n",
    "\n",
    "df.to_csv('feature_df.csv')"
   ]
  },
  {
   "cell_type": "markdown",
   "id": "02ab443c-51e2-499f-94ca-c2916dbfc707",
   "metadata": {},
   "source": [
    "<a id=\"df\"></a>"
   ]
  },
  {
   "cell_type": "code",
   "execution_count": 83,
   "id": "b1cb6339-32f5-44f5-afbe-305b3352a6ea",
   "metadata": {},
   "outputs": [
    {
     "data": {
      "text/html": [
       "<div>\n",
       "<style scoped>\n",
       "    .dataframe tbody tr th:only-of-type {\n",
       "        vertical-align: middle;\n",
       "    }\n",
       "\n",
       "    .dataframe tbody tr th {\n",
       "        vertical-align: top;\n",
       "    }\n",
       "\n",
       "    .dataframe thead th {\n",
       "        text-align: right;\n",
       "    }\n",
       "</style>\n",
       "<table border=\"1\" class=\"dataframe\">\n",
       "  <thead>\n",
       "    <tr style=\"text-align: right;\">\n",
       "      <th></th>\n",
       "      <th>file_name</th>\n",
       "      <th>page</th>\n",
       "      <th>cropbox_x</th>\n",
       "      <th>cropbox_y</th>\n",
       "      <th>header</th>\n",
       "      <th>footer</th>\n",
       "      <th>fonts</th>\n",
       "      <th>isImage</th>\n",
       "      <th>label</th>\n",
       "      <th>crop_is_diff</th>\n",
       "      <th>font_is_diff</th>\n",
       "    </tr>\n",
       "  </thead>\n",
       "  <tbody>\n",
       "    <tr>\n",
       "      <th>25</th>\n",
       "      <td>868212</td>\n",
       "      <td>26</td>\n",
       "      <td>419.528015</td>\n",
       "      <td>595.276001</td>\n",
       "      <td>Handreiking | Veilige Moskee\\n</td>\n",
       "      <td>26\\n</td>\n",
       "      <td>{KPXZKR, JBOTWT}</td>\n",
       "      <td>0</td>\n",
       "      <td>0</td>\n",
       "      <td>0</td>\n",
       "      <td>0</td>\n",
       "    </tr>\n",
       "    <tr>\n",
       "      <th>26</th>\n",
       "      <td>868212</td>\n",
       "      <td>27</td>\n",
       "      <td>419.528015</td>\n",
       "      <td>595.276001</td>\n",
       "      <td>Handreiking | Veilige Moskee\\n</td>\n",
       "      <td>27\\n</td>\n",
       "      <td>{JBOTWT, KPXZKR}</td>\n",
       "      <td>0</td>\n",
       "      <td>0</td>\n",
       "      <td>0</td>\n",
       "      <td>0</td>\n",
       "    </tr>\n",
       "    <tr>\n",
       "      <th>27</th>\n",
       "      <td>868212</td>\n",
       "      <td>28</td>\n",
       "      <td>419.528015</td>\n",
       "      <td>595.276001</td>\n",
       "      <td>Handreiking | Veilige Moskee\\n</td>\n",
       "      <td>28\\n</td>\n",
       "      <td>{JBOTWT, KPXZKR}</td>\n",
       "      <td>0</td>\n",
       "      <td>0</td>\n",
       "      <td>0</td>\n",
       "      <td>0</td>\n",
       "    </tr>\n",
       "    <tr>\n",
       "      <th>28</th>\n",
       "      <td>868212</td>\n",
       "      <td>29</td>\n",
       "      <td>419.528015</td>\n",
       "      <td>595.276001</td>\n",
       "      <td>Handreiking | Veilige Moskee\\n</td>\n",
       "      <td>29\\n</td>\n",
       "      <td>{JBOTWT, KPXZKR}</td>\n",
       "      <td>0</td>\n",
       "      <td>0</td>\n",
       "      <td>0</td>\n",
       "      <td>0</td>\n",
       "    </tr>\n",
       "    <tr>\n",
       "      <th>29</th>\n",
       "      <td>868212</td>\n",
       "      <td>30</td>\n",
       "      <td>419.528015</td>\n",
       "      <td>595.276001</td>\n",
       "      <td>Handreiking | Veilige Moskee\\n</td>\n",
       "      <td>30\\n</td>\n",
       "      <td>{JBOTWT, KPXZKR}</td>\n",
       "      <td>0</td>\n",
       "      <td>0</td>\n",
       "      <td>0</td>\n",
       "      <td>0</td>\n",
       "    </tr>\n",
       "    <tr>\n",
       "      <th>30</th>\n",
       "      <td>868212</td>\n",
       "      <td>31</td>\n",
       "      <td>419.528015</td>\n",
       "      <td>595.276001</td>\n",
       "      <td>Handreiking | Veilige Moskee\\n</td>\n",
       "      <td>31\\n</td>\n",
       "      <td>{JBOTWT, KPXZKR}</td>\n",
       "      <td>0</td>\n",
       "      <td>0</td>\n",
       "      <td>0</td>\n",
       "      <td>0</td>\n",
       "    </tr>\n",
       "    <tr>\n",
       "      <th>31</th>\n",
       "      <td>868212</td>\n",
       "      <td>32</td>\n",
       "      <td>419.528015</td>\n",
       "      <td>595.276001</td>\n",
       "      <td>Handreiking | Veilige Moskee\\n</td>\n",
       "      <td>32\\n</td>\n",
       "      <td>{JBOTWT, KPXZKR}</td>\n",
       "      <td>0</td>\n",
       "      <td>0</td>\n",
       "      <td>0</td>\n",
       "      <td>0</td>\n",
       "    </tr>\n",
       "    <tr>\n",
       "      <th>32</th>\n",
       "      <td>868212</td>\n",
       "      <td>33</td>\n",
       "      <td>419.528015</td>\n",
       "      <td>595.276001</td>\n",
       "      <td>Handreiking | Veilige Moskee\\n</td>\n",
       "      <td>33\\n</td>\n",
       "      <td>{KPXZKR, JBOTWT}</td>\n",
       "      <td>0</td>\n",
       "      <td>0</td>\n",
       "      <td>0</td>\n",
       "      <td>0</td>\n",
       "    </tr>\n",
       "    <tr>\n",
       "      <th>33</th>\n",
       "      <td>868212</td>\n",
       "      <td>34</td>\n",
       "      <td>419.528015</td>\n",
       "      <td>595.276001</td>\n",
       "      <td>Handreiking | Veilige Moskee\\n</td>\n",
       "      <td>34\\n</td>\n",
       "      <td>{JBOTWT, KPXZKR}</td>\n",
       "      <td>0</td>\n",
       "      <td>0</td>\n",
       "      <td>0</td>\n",
       "      <td>0</td>\n",
       "    </tr>\n",
       "    <tr>\n",
       "      <th>34</th>\n",
       "      <td>868212</td>\n",
       "      <td>35</td>\n",
       "      <td>419.528015</td>\n",
       "      <td>595.276001</td>\n",
       "      <td>Handreiking | Veilige Moskee\\n</td>\n",
       "      <td>35\\n</td>\n",
       "      <td>{KPXZKR, JBOTWT}</td>\n",
       "      <td>0</td>\n",
       "      <td>0</td>\n",
       "      <td>0</td>\n",
       "      <td>0</td>\n",
       "    </tr>\n",
       "    <tr>\n",
       "      <th>35</th>\n",
       "      <td>868212</td>\n",
       "      <td>36</td>\n",
       "      <td>419.528015</td>\n",
       "      <td>595.276001</td>\n",
       "      <td>0</td>\n",
       "      <td>0</td>\n",
       "      <td>{KPXZKR}</td>\n",
       "      <td>0</td>\n",
       "      <td>0</td>\n",
       "      <td>0</td>\n",
       "      <td>0</td>\n",
       "    </tr>\n",
       "    <tr>\n",
       "      <th>36</th>\n",
       "      <td>868212</td>\n",
       "      <td>37</td>\n",
       "      <td>595.276001</td>\n",
       "      <td>841.890015</td>\n",
       "      <td>0</td>\n",
       "      <td>0</td>\n",
       "      <td>{WLBRWT}</td>\n",
       "      <td>0</td>\n",
       "      <td>1</td>\n",
       "      <td>1</td>\n",
       "      <td>1</td>\n",
       "    </tr>\n",
       "    <tr>\n",
       "      <th>37</th>\n",
       "      <td>868212</td>\n",
       "      <td>38</td>\n",
       "      <td>595.276001</td>\n",
       "      <td>841.890015</td>\n",
       "      <td>empty</td>\n",
       "      <td>empty</td>\n",
       "      <td>{none}</td>\n",
       "      <td>1</td>\n",
       "      <td>0</td>\n",
       "      <td>0</td>\n",
       "      <td>1</td>\n",
       "    </tr>\n",
       "    <tr>\n",
       "      <th>38</th>\n",
       "      <td>868212</td>\n",
       "      <td>39</td>\n",
       "      <td>595.276001</td>\n",
       "      <td>841.890015</td>\n",
       "      <td>0</td>\n",
       "      <td>Jaarrapportage Aanpak Radicalisering en Polari...</td>\n",
       "      <td>{WLBRWT, BZZVOJ}</td>\n",
       "      <td>0</td>\n",
       "      <td>0</td>\n",
       "      <td>0</td>\n",
       "      <td>0</td>\n",
       "    </tr>\n",
       "    <tr>\n",
       "      <th>39</th>\n",
       "      <td>868212</td>\n",
       "      <td>40</td>\n",
       "      <td>595.276001</td>\n",
       "      <td>841.890015</td>\n",
       "      <td>0</td>\n",
       "      <td>4\\nJaarrapportage Aanpak Radicalisering en Pol...</td>\n",
       "      <td>{WLBRWT, BZZVOJ}</td>\n",
       "      <td>0</td>\n",
       "      <td>0</td>\n",
       "      <td>0</td>\n",
       "      <td>0</td>\n",
       "    </tr>\n",
       "    <tr>\n",
       "      <th>40</th>\n",
       "      <td>868212</td>\n",
       "      <td>41</td>\n",
       "      <td>595.276001</td>\n",
       "      <td>841.890015</td>\n",
       "      <td>0</td>\n",
       "      <td>Jaarrapportage Aanpak Radicalisering en Polari...</td>\n",
       "      <td>{WLBRWT, BZZVOJ}</td>\n",
       "      <td>0</td>\n",
       "      <td>0</td>\n",
       "      <td>0</td>\n",
       "      <td>0</td>\n",
       "    </tr>\n",
       "    <tr>\n",
       "      <th>41</th>\n",
       "      <td>868212</td>\n",
       "      <td>42</td>\n",
       "      <td>595.276001</td>\n",
       "      <td>841.890015</td>\n",
       "      <td>0</td>\n",
       "      <td>6\\nJaarrapportage Aanpak Radicalisering en Pol...</td>\n",
       "      <td>{WLBRWT, BZZVOJ}</td>\n",
       "      <td>0</td>\n",
       "      <td>0</td>\n",
       "      <td>0</td>\n",
       "      <td>0</td>\n",
       "    </tr>\n",
       "    <tr>\n",
       "      <th>42</th>\n",
       "      <td>868212</td>\n",
       "      <td>43</td>\n",
       "      <td>595.276001</td>\n",
       "      <td>841.890015</td>\n",
       "      <td>0</td>\n",
       "      <td>Jaarrapportage Aanpak Radicalisering en Polari...</td>\n",
       "      <td>{WLBRWT, BZZVOJ}</td>\n",
       "      <td>0</td>\n",
       "      <td>0</td>\n",
       "      <td>0</td>\n",
       "      <td>0</td>\n",
       "    </tr>\n",
       "    <tr>\n",
       "      <th>43</th>\n",
       "      <td>868212</td>\n",
       "      <td>44</td>\n",
       "      <td>595.276001</td>\n",
       "      <td>841.890015</td>\n",
       "      <td>0</td>\n",
       "      <td>8\\nJaarrapportage Aanpak Radicalisering en Pol...</td>\n",
       "      <td>{WLBRWT, BZZVOJ}</td>\n",
       "      <td>0</td>\n",
       "      <td>0</td>\n",
       "      <td>0</td>\n",
       "      <td>0</td>\n",
       "    </tr>\n",
       "    <tr>\n",
       "      <th>44</th>\n",
       "      <td>868212</td>\n",
       "      <td>45</td>\n",
       "      <td>595.276001</td>\n",
       "      <td>841.890015</td>\n",
       "      <td>0</td>\n",
       "      <td>Jaarrapportage Aanpak Radicalisering en Polari...</td>\n",
       "      <td>{WLBRWT, BZZVOJ}</td>\n",
       "      <td>0</td>\n",
       "      <td>0</td>\n",
       "      <td>0</td>\n",
       "      <td>0</td>\n",
       "    </tr>\n",
       "  </tbody>\n",
       "</table>\n",
       "</div>"
      ],
      "text/plain": [
       "   file_name  page   cropbox_x   cropbox_y                          header  \\\n",
       "25    868212    26  419.528015  595.276001  Handreiking | Veilige Moskee\\n   \n",
       "26    868212    27  419.528015  595.276001  Handreiking | Veilige Moskee\\n   \n",
       "27    868212    28  419.528015  595.276001  Handreiking | Veilige Moskee\\n   \n",
       "28    868212    29  419.528015  595.276001  Handreiking | Veilige Moskee\\n   \n",
       "29    868212    30  419.528015  595.276001  Handreiking | Veilige Moskee\\n   \n",
       "30    868212    31  419.528015  595.276001  Handreiking | Veilige Moskee\\n   \n",
       "31    868212    32  419.528015  595.276001  Handreiking | Veilige Moskee\\n   \n",
       "32    868212    33  419.528015  595.276001  Handreiking | Veilige Moskee\\n   \n",
       "33    868212    34  419.528015  595.276001  Handreiking | Veilige Moskee\\n   \n",
       "34    868212    35  419.528015  595.276001  Handreiking | Veilige Moskee\\n   \n",
       "35    868212    36  419.528015  595.276001                               0   \n",
       "36    868212    37  595.276001  841.890015                               0   \n",
       "37    868212    38  595.276001  841.890015                           empty   \n",
       "38    868212    39  595.276001  841.890015                               0   \n",
       "39    868212    40  595.276001  841.890015                               0   \n",
       "40    868212    41  595.276001  841.890015                               0   \n",
       "41    868212    42  595.276001  841.890015                               0   \n",
       "42    868212    43  595.276001  841.890015                               0   \n",
       "43    868212    44  595.276001  841.890015                               0   \n",
       "44    868212    45  595.276001  841.890015                               0   \n",
       "\n",
       "                                               footer             fonts  \\\n",
       "25                                               26\\n  {KPXZKR, JBOTWT}   \n",
       "26                                               27\\n  {JBOTWT, KPXZKR}   \n",
       "27                                               28\\n  {JBOTWT, KPXZKR}   \n",
       "28                                               29\\n  {JBOTWT, KPXZKR}   \n",
       "29                                               30\\n  {JBOTWT, KPXZKR}   \n",
       "30                                               31\\n  {JBOTWT, KPXZKR}   \n",
       "31                                               32\\n  {JBOTWT, KPXZKR}   \n",
       "32                                               33\\n  {KPXZKR, JBOTWT}   \n",
       "33                                               34\\n  {JBOTWT, KPXZKR}   \n",
       "34                                               35\\n  {KPXZKR, JBOTWT}   \n",
       "35                                                  0          {KPXZKR}   \n",
       "36                                                  0          {WLBRWT}   \n",
       "37                                              empty            {none}   \n",
       "38  Jaarrapportage Aanpak Radicalisering en Polari...  {WLBRWT, BZZVOJ}   \n",
       "39  4\\nJaarrapportage Aanpak Radicalisering en Pol...  {WLBRWT, BZZVOJ}   \n",
       "40  Jaarrapportage Aanpak Radicalisering en Polari...  {WLBRWT, BZZVOJ}   \n",
       "41  6\\nJaarrapportage Aanpak Radicalisering en Pol...  {WLBRWT, BZZVOJ}   \n",
       "42  Jaarrapportage Aanpak Radicalisering en Polari...  {WLBRWT, BZZVOJ}   \n",
       "43  8\\nJaarrapportage Aanpak Radicalisering en Pol...  {WLBRWT, BZZVOJ}   \n",
       "44  Jaarrapportage Aanpak Radicalisering en Polari...  {WLBRWT, BZZVOJ}   \n",
       "\n",
       "    isImage  label  crop_is_diff  font_is_diff  \n",
       "25        0      0             0             0  \n",
       "26        0      0             0             0  \n",
       "27        0      0             0             0  \n",
       "28        0      0             0             0  \n",
       "29        0      0             0             0  \n",
       "30        0      0             0             0  \n",
       "31        0      0             0             0  \n",
       "32        0      0             0             0  \n",
       "33        0      0             0             0  \n",
       "34        0      0             0             0  \n",
       "35        0      0             0             0  \n",
       "36        0      1             1             1  \n",
       "37        1      0             0             1  \n",
       "38        0      0             0             0  \n",
       "39        0      0             0             0  \n",
       "40        0      0             0             0  \n",
       "41        0      0             0             0  \n",
       "42        0      0             0             0  \n",
       "43        0      0             0             0  \n",
       "44        0      0             0             0  "
      ]
     },
     "execution_count": 83,
     "metadata": {},
     "output_type": "execute_result"
    }
   ],
   "source": [
    "df[['file_name','page','cropbox_x','cropbox_y', 'header', 'footer', 'fonts', 'isImage','label','crop_is_diff','font_is_diff']][25:45]"
   ]
  },
  {
   "cell_type": "markdown",
   "id": "31741ef5-59c7-477b-82f9-bdf7e881d287",
   "metadata": {},
   "source": [
    "### Onehot encoding if needed"
   ]
  },
  {
   "cell_type": "code",
   "execution_count": 81,
   "id": "6701ccbe-bed4-4aac-a954-cda5137ad8d8",
   "metadata": {},
   "outputs": [],
   "source": [
    "def onehot(df):\n",
    "    lb = LabelBinarizer()\n",
    "\n",
    "    all_fonts = set()\n",
    "    df['fonts'].apply(lambda x: all_fonts.update(x))\n",
    "\n",
    "    lb.fit(list(all_fonts))\n",
    "    ohe_list = []\n",
    "    df['fonts'].apply(lambda x: ohe_list.append(lb.transform(list(x))))\n",
    "    return df.join(combine_ohe(ohe_list, lb))\n",
    "\n",
    "\n",
    "\n",
    "def combine_ohe(ohe_list, lb):\n",
    "    a = []\n",
    "    for i in ohe_list:\n",
    "        combined = 0\n",
    "        if len(i) > 1:\n",
    "            for y in i:\n",
    "                combined+=y\n",
    "            a.append(combined)\n",
    "        else:\n",
    "            a.append(i[0])\n",
    "    return pd.DataFrame(a, columns = lb.classes_)"
   ]
  },
  {
   "cell_type": "markdown",
   "id": "61425829-3fdd-4df6-8fe5-f5b439aaf807",
   "metadata": {},
   "source": [
    "### Classification\n",
    "<a id=\"classification\"></a>"
   ]
  },
  {
   "cell_type": "code",
   "execution_count": 72,
   "id": "6301330b-bb50-4bd9-9ce3-fffe92bb0b8a",
   "metadata": {},
   "outputs": [],
   "source": [
    "from sklearn.tree import DecisionTreeClassifier\n",
    "from sklearn.ensemble import RandomForestClassifier\n",
    "\n",
    "def score(true, preds):\n",
    "    correct = 0\n",
    "    total = Counter(y_test)[1]\n",
    "    for t, p in zip(true, preds):\n",
    "        if t == p == 1:\n",
    "            correct += 1\n",
    "    return correct/total"
   ]
  },
  {
   "cell_type": "markdown",
   "id": "5a085641-25fa-4081-a9c2-1c6139bc766e",
   "metadata": {},
   "source": [
    "#### Font_is_diff only"
   ]
  },
  {
   "cell_type": "code",
   "execution_count": 73,
   "id": "fe44ce58-9ac8-4841-ab5d-c1f3a0001452",
   "metadata": {},
   "outputs": [
    {
     "data": {
      "text/plain": [
       "0.5039370078740157"
      ]
     },
     "execution_count": 73,
     "metadata": {},
     "output_type": "execute_result"
    }
   ],
   "source": [
    "pd.set_option('display.max_rows', 200)\n",
    "features = ['font_is_diff']\n",
    "split = 15027\n",
    "\n",
    "X_train = df.iloc[:split][features]\n",
    "y_train = df.iloc[:split]['label']\n",
    "X_test = df.iloc[split:][features]\n",
    "y_test = df.iloc[split:]['label']\n",
    "model = RandomForestClassifier()\n",
    "model.fit(X_train, y_train)\n",
    "\n",
    "true = y_test\n",
    "preds = model.predict(X_test)\n",
    "score(true,preds)"
   ]
  },
  {
   "cell_type": "markdown",
   "id": "55dd5704-9d50-4c4c-82a7-8511d2d9adbd",
   "metadata": {},
   "source": [
    "#### Crop_is_diff only"
   ]
  },
  {
   "cell_type": "code",
   "execution_count": 74,
   "id": "1f0159fb-0894-4edb-8681-b37fbeab0240",
   "metadata": {},
   "outputs": [
    {
     "data": {
      "text/plain": [
       "0.33970753655793023"
      ]
     },
     "execution_count": 74,
     "metadata": {},
     "output_type": "execute_result"
    }
   ],
   "source": [
    "features = ['crop_is_diff']\n",
    "split = 15027\n",
    "\n",
    "X_train = df.iloc[:split][features]\n",
    "y_train = df.iloc[:split]['label']\n",
    "X_test = df.iloc[split:][features]\n",
    "y_test = df.iloc[split:]['label']\n",
    "\n",
    "model = RandomForestClassifier()\n",
    "model.fit(X_train, y_train)\n",
    "\n",
    "true = y_test\n",
    "preds = model.predict(X_test)\n",
    "\n",
    "score(true,preds)"
   ]
  },
  {
   "cell_type": "markdown",
   "id": "4765de79-6d9b-4b4c-960f-5ac554475d8b",
   "metadata": {},
   "source": [
    "#### Both font_is_diff and crop_is_diff"
   ]
  },
  {
   "cell_type": "code",
   "execution_count": 78,
   "id": "7c3d77e6-4b5a-4b92-ab2d-8ab1b39f588b",
   "metadata": {},
   "outputs": [
    {
     "data": {
      "text/plain": [
       "0.33970753655793023"
      ]
     },
     "execution_count": 78,
     "metadata": {},
     "output_type": "execute_result"
    }
   ],
   "source": [
    "features = ['font_is_diff','crop_is_diff']\n",
    "split = 15027\n",
    "\n",
    "X_train = df.iloc[:split][features]\n",
    "y_train = df.iloc[:split]['label']\n",
    "X_test = df.iloc[split:][features]\n",
    "y_test = df.iloc[split:]['label']\n",
    "\n",
    "model = RandomForestClassifier()\n",
    "model.fit(X_train, y_train)\n",
    "\n",
    "true = y_test\n",
    "preds = model.predict(X_test)\n",
    "\n",
    "score(true,preds)"
   ]
  },
  {
   "cell_type": "markdown",
   "id": "0e198b54-2e34-4d31-8477-22f9a1840a17",
   "metadata": {},
   "source": [
    "De score voor `font_is_diff` en `crop_is_diff` gecombineerd is hetzelfde als alleen `crop_is_diff`"
   ]
  },
  {
   "cell_type": "code",
   "execution_count": 80,
   "id": "55cad7a1-7f3e-45e4-bca7-54a79c6fe4e0",
   "metadata": {},
   "outputs": [
    {
     "data": {
      "text/plain": [
       "array([0.34896885, 0.65103115])"
      ]
     },
     "execution_count": 80,
     "metadata": {},
     "output_type": "execute_result"
    }
   ],
   "source": [
    "model.feature_importances_"
   ]
  }
 ],
 "metadata": {
  "kernelspec": {
   "display_name": "thesis",
   "language": "python",
   "name": "thesis"
  },
  "language_info": {
   "codemirror_mode": {
    "name": "ipython",
    "version": 3
   },
   "file_extension": ".py",
   "mimetype": "text/x-python",
   "name": "python",
   "nbconvert_exporter": "python",
   "pygments_lexer": "ipython3",
   "version": "3.8.13"
  }
 },
 "nbformat": 4,
 "nbformat_minor": 5
}
