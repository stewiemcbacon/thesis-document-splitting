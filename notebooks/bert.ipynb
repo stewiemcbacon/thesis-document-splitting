{
  "cells": [
    {
      "cell_type": "markdown",
      "metadata": {
        "id": "SyNVnKUABzq5"
      },
      "source": []
    },
    {
      "cell_type": "code",
      "execution_count": 2,
      "metadata": {
        "colab": {
          "base_uri": "https://localhost:8080/",
          "height": 373
        },
        "id": "4_VRqdOhDebp",
        "outputId": "cdfe7bd9-f264-40e7-9811-8bc9dde918f8"
      },
      "outputs": [
        {
          "name": "stderr",
          "output_type": "stream",
          "text": [
            "c:\\Users\\stefa\\anaconda3\\envs\\thesis8\\lib\\site-packages\\tqdm\\auto.py:22: TqdmWarning: IProgress not found. Please update jupyter and ipywidgets. See https://ipywidgets.readthedocs.io/en/stable/user_install.html\n",
            "  from .autonotebook import tqdm as notebook_tqdm\n",
            "[nltk_data] Downloading package punkt to\n",
            "[nltk_data]     C:\\Users\\stefa\\AppData\\Roaming\\nltk_data...\n",
            "[nltk_data]   Package punkt is already up-to-date!\n"
          ]
        }
      ],
      "source": [
        "from transformers import BertConfig, RobertaForMaskedLM, RobertaTokenizer\n",
        "import pandas as pd\n",
        "import numpy as np\n",
        "from nltk.tokenize import sent_tokenize\n",
        "import re\n",
        "from scipy.spatial.distance import cosine\n",
        "from tqdm import tqdm\n",
        "\n",
        "# drive.mount('/content/drive')\n",
        "\n",
        "import nltk\n",
        "nltk.download('punkt')\n",
        "\n",
        "import pickle\n",
        "tqdm.pandas()"
      ]
    },
    {
      "cell_type": "code",
      "execution_count": 3,
      "metadata": {
        "colab": {
          "base_uri": "https://localhost:8080/"
        },
        "id": "mTXu6KzeDkVk",
        "outputId": "fe19c312-32e3-4904-8fa1-8de38db8f8a8"
      },
      "outputs": [
        {
          "name": "stderr",
          "output_type": "stream",
          "text": [
            "You are using a model of type roberta to instantiate a model of type bert. This is not supported for all configurations of models and can yield errors.\n"
          ]
        },
        {
          "data": {
            "text/plain": [
              "RobertaForMaskedLM(\n",
              "  (roberta): RobertaModel(\n",
              "    (embeddings): RobertaEmbeddings(\n",
              "      (word_embeddings): Embedding(40000, 768, padding_idx=1)\n",
              "      (position_embeddings): Embedding(514, 768, padding_idx=1)\n",
              "      (token_type_embeddings): Embedding(1, 768)\n",
              "      (LayerNorm): LayerNorm((768,), eps=1e-05, elementwise_affine=True)\n",
              "      (dropout): Dropout(p=0.1, inplace=False)\n",
              "    )\n",
              "    (encoder): RobertaEncoder(\n",
              "      (layer): ModuleList(\n",
              "        (0): RobertaLayer(\n",
              "          (attention): RobertaAttention(\n",
              "            (self): RobertaSelfAttention(\n",
              "              (query): Linear(in_features=768, out_features=768, bias=True)\n",
              "              (key): Linear(in_features=768, out_features=768, bias=True)\n",
              "              (value): Linear(in_features=768, out_features=768, bias=True)\n",
              "              (dropout): Dropout(p=0.1, inplace=False)\n",
              "            )\n",
              "            (output): RobertaSelfOutput(\n",
              "              (dense): Linear(in_features=768, out_features=768, bias=True)\n",
              "              (LayerNorm): LayerNorm((768,), eps=1e-05, elementwise_affine=True)\n",
              "              (dropout): Dropout(p=0.1, inplace=False)\n",
              "            )\n",
              "          )\n",
              "          (intermediate): RobertaIntermediate(\n",
              "            (dense): Linear(in_features=768, out_features=3072, bias=True)\n",
              "            (intermediate_act_fn): GELUActivation()\n",
              "          )\n",
              "          (output): RobertaOutput(\n",
              "            (dense): Linear(in_features=3072, out_features=768, bias=True)\n",
              "            (LayerNorm): LayerNorm((768,), eps=1e-05, elementwise_affine=True)\n",
              "            (dropout): Dropout(p=0.1, inplace=False)\n",
              "          )\n",
              "        )\n",
              "        (1): RobertaLayer(\n",
              "          (attention): RobertaAttention(\n",
              "            (self): RobertaSelfAttention(\n",
              "              (query): Linear(in_features=768, out_features=768, bias=True)\n",
              "              (key): Linear(in_features=768, out_features=768, bias=True)\n",
              "              (value): Linear(in_features=768, out_features=768, bias=True)\n",
              "              (dropout): Dropout(p=0.1, inplace=False)\n",
              "            )\n",
              "            (output): RobertaSelfOutput(\n",
              "              (dense): Linear(in_features=768, out_features=768, bias=True)\n",
              "              (LayerNorm): LayerNorm((768,), eps=1e-05, elementwise_affine=True)\n",
              "              (dropout): Dropout(p=0.1, inplace=False)\n",
              "            )\n",
              "          )\n",
              "          (intermediate): RobertaIntermediate(\n",
              "            (dense): Linear(in_features=768, out_features=3072, bias=True)\n",
              "            (intermediate_act_fn): GELUActivation()\n",
              "          )\n",
              "          (output): RobertaOutput(\n",
              "            (dense): Linear(in_features=3072, out_features=768, bias=True)\n",
              "            (LayerNorm): LayerNorm((768,), eps=1e-05, elementwise_affine=True)\n",
              "            (dropout): Dropout(p=0.1, inplace=False)\n",
              "          )\n",
              "        )\n",
              "        (2): RobertaLayer(\n",
              "          (attention): RobertaAttention(\n",
              "            (self): RobertaSelfAttention(\n",
              "              (query): Linear(in_features=768, out_features=768, bias=True)\n",
              "              (key): Linear(in_features=768, out_features=768, bias=True)\n",
              "              (value): Linear(in_features=768, out_features=768, bias=True)\n",
              "              (dropout): Dropout(p=0.1, inplace=False)\n",
              "            )\n",
              "            (output): RobertaSelfOutput(\n",
              "              (dense): Linear(in_features=768, out_features=768, bias=True)\n",
              "              (LayerNorm): LayerNorm((768,), eps=1e-05, elementwise_affine=True)\n",
              "              (dropout): Dropout(p=0.1, inplace=False)\n",
              "            )\n",
              "          )\n",
              "          (intermediate): RobertaIntermediate(\n",
              "            (dense): Linear(in_features=768, out_features=3072, bias=True)\n",
              "            (intermediate_act_fn): GELUActivation()\n",
              "          )\n",
              "          (output): RobertaOutput(\n",
              "            (dense): Linear(in_features=3072, out_features=768, bias=True)\n",
              "            (LayerNorm): LayerNorm((768,), eps=1e-05, elementwise_affine=True)\n",
              "            (dropout): Dropout(p=0.1, inplace=False)\n",
              "          )\n",
              "        )\n",
              "        (3): RobertaLayer(\n",
              "          (attention): RobertaAttention(\n",
              "            (self): RobertaSelfAttention(\n",
              "              (query): Linear(in_features=768, out_features=768, bias=True)\n",
              "              (key): Linear(in_features=768, out_features=768, bias=True)\n",
              "              (value): Linear(in_features=768, out_features=768, bias=True)\n",
              "              (dropout): Dropout(p=0.1, inplace=False)\n",
              "            )\n",
              "            (output): RobertaSelfOutput(\n",
              "              (dense): Linear(in_features=768, out_features=768, bias=True)\n",
              "              (LayerNorm): LayerNorm((768,), eps=1e-05, elementwise_affine=True)\n",
              "              (dropout): Dropout(p=0.1, inplace=False)\n",
              "            )\n",
              "          )\n",
              "          (intermediate): RobertaIntermediate(\n",
              "            (dense): Linear(in_features=768, out_features=3072, bias=True)\n",
              "            (intermediate_act_fn): GELUActivation()\n",
              "          )\n",
              "          (output): RobertaOutput(\n",
              "            (dense): Linear(in_features=3072, out_features=768, bias=True)\n",
              "            (LayerNorm): LayerNorm((768,), eps=1e-05, elementwise_affine=True)\n",
              "            (dropout): Dropout(p=0.1, inplace=False)\n",
              "          )\n",
              "        )\n",
              "        (4): RobertaLayer(\n",
              "          (attention): RobertaAttention(\n",
              "            (self): RobertaSelfAttention(\n",
              "              (query): Linear(in_features=768, out_features=768, bias=True)\n",
              "              (key): Linear(in_features=768, out_features=768, bias=True)\n",
              "              (value): Linear(in_features=768, out_features=768, bias=True)\n",
              "              (dropout): Dropout(p=0.1, inplace=False)\n",
              "            )\n",
              "            (output): RobertaSelfOutput(\n",
              "              (dense): Linear(in_features=768, out_features=768, bias=True)\n",
              "              (LayerNorm): LayerNorm((768,), eps=1e-05, elementwise_affine=True)\n",
              "              (dropout): Dropout(p=0.1, inplace=False)\n",
              "            )\n",
              "          )\n",
              "          (intermediate): RobertaIntermediate(\n",
              "            (dense): Linear(in_features=768, out_features=3072, bias=True)\n",
              "            (intermediate_act_fn): GELUActivation()\n",
              "          )\n",
              "          (output): RobertaOutput(\n",
              "            (dense): Linear(in_features=3072, out_features=768, bias=True)\n",
              "            (LayerNorm): LayerNorm((768,), eps=1e-05, elementwise_affine=True)\n",
              "            (dropout): Dropout(p=0.1, inplace=False)\n",
              "          )\n",
              "        )\n",
              "        (5): RobertaLayer(\n",
              "          (attention): RobertaAttention(\n",
              "            (self): RobertaSelfAttention(\n",
              "              (query): Linear(in_features=768, out_features=768, bias=True)\n",
              "              (key): Linear(in_features=768, out_features=768, bias=True)\n",
              "              (value): Linear(in_features=768, out_features=768, bias=True)\n",
              "              (dropout): Dropout(p=0.1, inplace=False)\n",
              "            )\n",
              "            (output): RobertaSelfOutput(\n",
              "              (dense): Linear(in_features=768, out_features=768, bias=True)\n",
              "              (LayerNorm): LayerNorm((768,), eps=1e-05, elementwise_affine=True)\n",
              "              (dropout): Dropout(p=0.1, inplace=False)\n",
              "            )\n",
              "          )\n",
              "          (intermediate): RobertaIntermediate(\n",
              "            (dense): Linear(in_features=768, out_features=3072, bias=True)\n",
              "            (intermediate_act_fn): GELUActivation()\n",
              "          )\n",
              "          (output): RobertaOutput(\n",
              "            (dense): Linear(in_features=3072, out_features=768, bias=True)\n",
              "            (LayerNorm): LayerNorm((768,), eps=1e-05, elementwise_affine=True)\n",
              "            (dropout): Dropout(p=0.1, inplace=False)\n",
              "          )\n",
              "        )\n",
              "        (6): RobertaLayer(\n",
              "          (attention): RobertaAttention(\n",
              "            (self): RobertaSelfAttention(\n",
              "              (query): Linear(in_features=768, out_features=768, bias=True)\n",
              "              (key): Linear(in_features=768, out_features=768, bias=True)\n",
              "              (value): Linear(in_features=768, out_features=768, bias=True)\n",
              "              (dropout): Dropout(p=0.1, inplace=False)\n",
              "            )\n",
              "            (output): RobertaSelfOutput(\n",
              "              (dense): Linear(in_features=768, out_features=768, bias=True)\n",
              "              (LayerNorm): LayerNorm((768,), eps=1e-05, elementwise_affine=True)\n",
              "              (dropout): Dropout(p=0.1, inplace=False)\n",
              "            )\n",
              "          )\n",
              "          (intermediate): RobertaIntermediate(\n",
              "            (dense): Linear(in_features=768, out_features=3072, bias=True)\n",
              "            (intermediate_act_fn): GELUActivation()\n",
              "          )\n",
              "          (output): RobertaOutput(\n",
              "            (dense): Linear(in_features=3072, out_features=768, bias=True)\n",
              "            (LayerNorm): LayerNorm((768,), eps=1e-05, elementwise_affine=True)\n",
              "            (dropout): Dropout(p=0.1, inplace=False)\n",
              "          )\n",
              "        )\n",
              "        (7): RobertaLayer(\n",
              "          (attention): RobertaAttention(\n",
              "            (self): RobertaSelfAttention(\n",
              "              (query): Linear(in_features=768, out_features=768, bias=True)\n",
              "              (key): Linear(in_features=768, out_features=768, bias=True)\n",
              "              (value): Linear(in_features=768, out_features=768, bias=True)\n",
              "              (dropout): Dropout(p=0.1, inplace=False)\n",
              "            )\n",
              "            (output): RobertaSelfOutput(\n",
              "              (dense): Linear(in_features=768, out_features=768, bias=True)\n",
              "              (LayerNorm): LayerNorm((768,), eps=1e-05, elementwise_affine=True)\n",
              "              (dropout): Dropout(p=0.1, inplace=False)\n",
              "            )\n",
              "          )\n",
              "          (intermediate): RobertaIntermediate(\n",
              "            (dense): Linear(in_features=768, out_features=3072, bias=True)\n",
              "            (intermediate_act_fn): GELUActivation()\n",
              "          )\n",
              "          (output): RobertaOutput(\n",
              "            (dense): Linear(in_features=3072, out_features=768, bias=True)\n",
              "            (LayerNorm): LayerNorm((768,), eps=1e-05, elementwise_affine=True)\n",
              "            (dropout): Dropout(p=0.1, inplace=False)\n",
              "          )\n",
              "        )\n",
              "        (8): RobertaLayer(\n",
              "          (attention): RobertaAttention(\n",
              "            (self): RobertaSelfAttention(\n",
              "              (query): Linear(in_features=768, out_features=768, bias=True)\n",
              "              (key): Linear(in_features=768, out_features=768, bias=True)\n",
              "              (value): Linear(in_features=768, out_features=768, bias=True)\n",
              "              (dropout): Dropout(p=0.1, inplace=False)\n",
              "            )\n",
              "            (output): RobertaSelfOutput(\n",
              "              (dense): Linear(in_features=768, out_features=768, bias=True)\n",
              "              (LayerNorm): LayerNorm((768,), eps=1e-05, elementwise_affine=True)\n",
              "              (dropout): Dropout(p=0.1, inplace=False)\n",
              "            )\n",
              "          )\n",
              "          (intermediate): RobertaIntermediate(\n",
              "            (dense): Linear(in_features=768, out_features=3072, bias=True)\n",
              "            (intermediate_act_fn): GELUActivation()\n",
              "          )\n",
              "          (output): RobertaOutput(\n",
              "            (dense): Linear(in_features=3072, out_features=768, bias=True)\n",
              "            (LayerNorm): LayerNorm((768,), eps=1e-05, elementwise_affine=True)\n",
              "            (dropout): Dropout(p=0.1, inplace=False)\n",
              "          )\n",
              "        )\n",
              "        (9): RobertaLayer(\n",
              "          (attention): RobertaAttention(\n",
              "            (self): RobertaSelfAttention(\n",
              "              (query): Linear(in_features=768, out_features=768, bias=True)\n",
              "              (key): Linear(in_features=768, out_features=768, bias=True)\n",
              "              (value): Linear(in_features=768, out_features=768, bias=True)\n",
              "              (dropout): Dropout(p=0.1, inplace=False)\n",
              "            )\n",
              "            (output): RobertaSelfOutput(\n",
              "              (dense): Linear(in_features=768, out_features=768, bias=True)\n",
              "              (LayerNorm): LayerNorm((768,), eps=1e-05, elementwise_affine=True)\n",
              "              (dropout): Dropout(p=0.1, inplace=False)\n",
              "            )\n",
              "          )\n",
              "          (intermediate): RobertaIntermediate(\n",
              "            (dense): Linear(in_features=768, out_features=3072, bias=True)\n",
              "            (intermediate_act_fn): GELUActivation()\n",
              "          )\n",
              "          (output): RobertaOutput(\n",
              "            (dense): Linear(in_features=3072, out_features=768, bias=True)\n",
              "            (LayerNorm): LayerNorm((768,), eps=1e-05, elementwise_affine=True)\n",
              "            (dropout): Dropout(p=0.1, inplace=False)\n",
              "          )\n",
              "        )\n",
              "        (10): RobertaLayer(\n",
              "          (attention): RobertaAttention(\n",
              "            (self): RobertaSelfAttention(\n",
              "              (query): Linear(in_features=768, out_features=768, bias=True)\n",
              "              (key): Linear(in_features=768, out_features=768, bias=True)\n",
              "              (value): Linear(in_features=768, out_features=768, bias=True)\n",
              "              (dropout): Dropout(p=0.1, inplace=False)\n",
              "            )\n",
              "            (output): RobertaSelfOutput(\n",
              "              (dense): Linear(in_features=768, out_features=768, bias=True)\n",
              "              (LayerNorm): LayerNorm((768,), eps=1e-05, elementwise_affine=True)\n",
              "              (dropout): Dropout(p=0.1, inplace=False)\n",
              "            )\n",
              "          )\n",
              "          (intermediate): RobertaIntermediate(\n",
              "            (dense): Linear(in_features=768, out_features=3072, bias=True)\n",
              "            (intermediate_act_fn): GELUActivation()\n",
              "          )\n",
              "          (output): RobertaOutput(\n",
              "            (dense): Linear(in_features=3072, out_features=768, bias=True)\n",
              "            (LayerNorm): LayerNorm((768,), eps=1e-05, elementwise_affine=True)\n",
              "            (dropout): Dropout(p=0.1, inplace=False)\n",
              "          )\n",
              "        )\n",
              "        (11): RobertaLayer(\n",
              "          (attention): RobertaAttention(\n",
              "            (self): RobertaSelfAttention(\n",
              "              (query): Linear(in_features=768, out_features=768, bias=True)\n",
              "              (key): Linear(in_features=768, out_features=768, bias=True)\n",
              "              (value): Linear(in_features=768, out_features=768, bias=True)\n",
              "              (dropout): Dropout(p=0.1, inplace=False)\n",
              "            )\n",
              "            (output): RobertaSelfOutput(\n",
              "              (dense): Linear(in_features=768, out_features=768, bias=True)\n",
              "              (LayerNorm): LayerNorm((768,), eps=1e-05, elementwise_affine=True)\n",
              "              (dropout): Dropout(p=0.1, inplace=False)\n",
              "            )\n",
              "          )\n",
              "          (intermediate): RobertaIntermediate(\n",
              "            (dense): Linear(in_features=768, out_features=3072, bias=True)\n",
              "            (intermediate_act_fn): GELUActivation()\n",
              "          )\n",
              "          (output): RobertaOutput(\n",
              "            (dense): Linear(in_features=3072, out_features=768, bias=True)\n",
              "            (LayerNorm): LayerNorm((768,), eps=1e-05, elementwise_affine=True)\n",
              "            (dropout): Dropout(p=0.1, inplace=False)\n",
              "          )\n",
              "        )\n",
              "      )\n",
              "    )\n",
              "  )\n",
              "  (lm_head): RobertaLMHead(\n",
              "    (dense): Linear(in_features=768, out_features=768, bias=True)\n",
              "    (layer_norm): LayerNorm((768,), eps=1e-05, elementwise_affine=True)\n",
              "    (decoder): Linear(in_features=768, out_features=40000, bias=True)\n",
              "  )\n",
              ")"
            ]
          },
          "execution_count": 3,
          "metadata": {},
          "output_type": "execute_result"
        }
      ],
      "source": [
        "model_path = \"pdelobelle/robbert-v2-dutch-base\"\n",
        "tokenizer = RobertaTokenizer.from_pretrained(model_path)\n",
        "config = BertConfig.from_pretrained(model_path, output_hidden_states=True)\n",
        "\n",
        "robbert = RobertaForMaskedLM.from_pretrained(model_path, config=config)\n",
        "robbert.eval()"
      ]
    },
    {
      "cell_type": "code",
      "execution_count": 4,
      "metadata": {
        "id": "FWGLQgwVCneV"
      },
      "outputs": [],
      "source": [
        "\n",
        "df = pd.read_csv('dfs/c1.csv',index_col = 0)"
      ]
    },
    {
      "cell_type": "code",
      "execution_count": 7,
      "metadata": {
        "id": "dEkW-BiijwPj"
      },
      "outputs": [],
      "source": [
        "df = pd.read_csv('dfs/c2.csv',index_col = 0)"
      ]
    },
    {
      "cell_type": "code",
      "execution_count": 60,
      "metadata": {
        "colab": {
          "base_uri": "https://localhost:8080/"
        },
        "id": "rqUtX-3qSTzm",
        "outputId": "01aec753-6e5f-48eb-cd71-24f96a3f25a1"
      },
      "outputs": [
        {
          "name": "stderr",
          "output_type": "stream",
          "text": [
            "  0%|          | 3/16537 [00:02<3:57:55,  1.16it/s]Token indices sequence length is longer than the specified maximum sequence length for this model (1840 > 512). Running this sequence through the model will result in indexing errors\n",
            "  0%|          | 25/16537 [00:21<4:14:59,  1.08it/s]"
          ]
        }
      ],
      "source": [
        "vectors = []\n",
        "fails = []\n",
        "for i in tqdm(range(len(df)), leave= True):\n",
        "    if pd.isnull(df.iloc[i]['text_y_cleaned']):\n",
        "        vectors.append(np.zeros(768))\n",
        "\n",
        "    else:\n",
        "        text = re.sub('\\n', ' ', df.iloc[i]['text_y'])\n",
        "\n",
        "        try:\n",
        "            vectors.append(robbert(**tokenizer(text, return_tensors='pt', padding=True))[1][-1][:, 0].detach().numpy())\n",
        "\n",
        "        except Exception as e:\n",
        "\n",
        "\n",
        "            tokens = text.split()\n",
        "            chunks = []\n",
        "            texts = []\n",
        "\n",
        "            if len(tokens) >= 200:\n",
        "                n_tokens = len(tokens)\n",
        "                n_chunks = int(np.ceil(n_tokens / 200))\n",
        "                balance = n_tokens/n_chunks\n",
        "\n",
        "                for j in range(n_chunks):\n",
        "                    split = int(j * balance)\n",
        "                    next_split = int((j+1) * balance)\n",
        "                    chunks.append(tokens[split:next_split])\n",
        "\n",
        "            for chunk in chunks:\n",
        "                texts.append(' '.join([x for x in chunk]))\n",
        "\n",
        "            try:\n",
        "                vectors.append(np.mean(robbert(**tokenizer(texts, return_tensors='pt', padding=True))[1][-1][:, 0].detach().numpy(), axis = 0))\n",
        "\n",
        "            except:\n",
        "                fails.append(i)\n",
        "                vectors.append(np.zeros(768))\n",
        "\n",
        "vectors = [x.flatten() for x in vectors]\n",
        "pickle.dump(vectors, open('pickles/c2_vectors.p','wb'))\n",
        "pickle.dump(fails, open('pickles/c2_fails.p','wb'))"
      ]
    },
    {
      "cell_type": "code",
      "execution_count": 6,
      "metadata": {},
      "outputs": [
        {
          "name": "stderr",
          "output_type": "stream",
          "text": [
            "  0%|          | 1/19102 [00:00<1:53:19,  2.81it/s]\n"
          ]
        },
        {
          "ename": "KeyboardInterrupt",
          "evalue": "",
          "output_type": "error",
          "traceback": [
            "\u001b[1;31m---------------------------------------------------------------------------\u001b[0m",
            "\u001b[1;31mKeyboardInterrupt\u001b[0m                         Traceback (most recent call last)",
            "\u001b[1;32m~\\AppData\\Local\\Temp\\ipykernel_9768\\1323083704.py\u001b[0m in \u001b[0;36m<module>\u001b[1;34m\u001b[0m\n\u001b[0;32m      9\u001b[0m \u001b[1;33m\u001b[0m\u001b[0m\n\u001b[0;32m     10\u001b[0m         \u001b[1;32mtry\u001b[0m\u001b[1;33m:\u001b[0m\u001b[1;33m\u001b[0m\u001b[1;33m\u001b[0m\u001b[0m\n\u001b[1;32m---> 11\u001b[1;33m             \u001b[0mvectors\u001b[0m\u001b[1;33m.\u001b[0m\u001b[0mappend\u001b[0m\u001b[1;33m(\u001b[0m\u001b[0mrobbert\u001b[0m\u001b[1;33m(\u001b[0m\u001b[1;33m**\u001b[0m\u001b[0mtokenizer\u001b[0m\u001b[1;33m(\u001b[0m\u001b[0mtext\u001b[0m\u001b[1;33m,\u001b[0m \u001b[0mreturn_tensors\u001b[0m\u001b[1;33m=\u001b[0m\u001b[1;34m'pt'\u001b[0m\u001b[1;33m,\u001b[0m \u001b[0mpadding\u001b[0m\u001b[1;33m=\u001b[0m\u001b[1;32mTrue\u001b[0m\u001b[1;33m,\u001b[0m \u001b[0mtruncation\u001b[0m\u001b[1;33m=\u001b[0m\u001b[1;32mTrue\u001b[0m\u001b[1;33m)\u001b[0m\u001b[1;33m)\u001b[0m\u001b[1;33m[\u001b[0m\u001b[1;36m1\u001b[0m\u001b[1;33m]\u001b[0m\u001b[1;33m[\u001b[0m\u001b[1;33m-\u001b[0m\u001b[1;36m1\u001b[0m\u001b[1;33m]\u001b[0m\u001b[1;33m[\u001b[0m\u001b[1;33m:\u001b[0m\u001b[1;33m,\u001b[0m \u001b[1;36m0\u001b[0m\u001b[1;33m]\u001b[0m\u001b[1;33m.\u001b[0m\u001b[0mdetach\u001b[0m\u001b[1;33m(\u001b[0m\u001b[1;33m)\u001b[0m\u001b[1;33m.\u001b[0m\u001b[0mnumpy\u001b[0m\u001b[1;33m(\u001b[0m\u001b[1;33m)\u001b[0m\u001b[1;33m)\u001b[0m\u001b[1;33m\u001b[0m\u001b[1;33m\u001b[0m\u001b[0m\n\u001b[0m\u001b[0;32m     12\u001b[0m \u001b[1;33m\u001b[0m\u001b[0m\n\u001b[0;32m     13\u001b[0m         \u001b[1;32mexcept\u001b[0m \u001b[0mException\u001b[0m \u001b[1;32mas\u001b[0m \u001b[0me\u001b[0m\u001b[1;33m:\u001b[0m\u001b[1;33m\u001b[0m\u001b[1;33m\u001b[0m\u001b[0m\n",
            "\u001b[1;32mc:\\Users\\stefa\\anaconda3\\envs\\thesis8\\lib\\site-packages\\torch\\nn\\modules\\module.py\u001b[0m in \u001b[0;36m_call_impl\u001b[1;34m(self, *input, **kwargs)\u001b[0m\n\u001b[0;32m   1108\u001b[0m         if not (self._backward_hooks or self._forward_hooks or self._forward_pre_hooks or _global_backward_hooks\n\u001b[0;32m   1109\u001b[0m                 or _global_forward_hooks or _global_forward_pre_hooks):\n\u001b[1;32m-> 1110\u001b[1;33m             \u001b[1;32mreturn\u001b[0m \u001b[0mforward_call\u001b[0m\u001b[1;33m(\u001b[0m\u001b[1;33m*\u001b[0m\u001b[0minput\u001b[0m\u001b[1;33m,\u001b[0m \u001b[1;33m**\u001b[0m\u001b[0mkwargs\u001b[0m\u001b[1;33m)\u001b[0m\u001b[1;33m\u001b[0m\u001b[1;33m\u001b[0m\u001b[0m\n\u001b[0m\u001b[0;32m   1111\u001b[0m         \u001b[1;31m# Do not call functions when jit is used\u001b[0m\u001b[1;33m\u001b[0m\u001b[1;33m\u001b[0m\u001b[1;33m\u001b[0m\u001b[0m\n\u001b[0;32m   1112\u001b[0m         \u001b[0mfull_backward_hooks\u001b[0m\u001b[1;33m,\u001b[0m \u001b[0mnon_full_backward_hooks\u001b[0m \u001b[1;33m=\u001b[0m \u001b[1;33m[\u001b[0m\u001b[1;33m]\u001b[0m\u001b[1;33m,\u001b[0m \u001b[1;33m[\u001b[0m\u001b[1;33m]\u001b[0m\u001b[1;33m\u001b[0m\u001b[1;33m\u001b[0m\u001b[0m\n",
            "\u001b[1;32mc:\\Users\\stefa\\anaconda3\\envs\\thesis8\\lib\\site-packages\\transformers\\models\\roberta\\modeling_roberta.py\u001b[0m in \u001b[0;36mforward\u001b[1;34m(self, input_ids, attention_mask, token_type_ids, position_ids, head_mask, inputs_embeds, encoder_hidden_states, encoder_attention_mask, labels, output_attentions, output_hidden_states, return_dict)\u001b[0m\n\u001b[0;32m   1103\u001b[0m             \u001b[0moutput_attentions\u001b[0m\u001b[1;33m=\u001b[0m\u001b[0moutput_attentions\u001b[0m\u001b[1;33m,\u001b[0m\u001b[1;33m\u001b[0m\u001b[1;33m\u001b[0m\u001b[0m\n\u001b[0;32m   1104\u001b[0m             \u001b[0moutput_hidden_states\u001b[0m\u001b[1;33m=\u001b[0m\u001b[0moutput_hidden_states\u001b[0m\u001b[1;33m,\u001b[0m\u001b[1;33m\u001b[0m\u001b[1;33m\u001b[0m\u001b[0m\n\u001b[1;32m-> 1105\u001b[1;33m             \u001b[0mreturn_dict\u001b[0m\u001b[1;33m=\u001b[0m\u001b[0mreturn_dict\u001b[0m\u001b[1;33m,\u001b[0m\u001b[1;33m\u001b[0m\u001b[1;33m\u001b[0m\u001b[0m\n\u001b[0m\u001b[0;32m   1106\u001b[0m         )\n\u001b[0;32m   1107\u001b[0m         \u001b[0msequence_output\u001b[0m \u001b[1;33m=\u001b[0m \u001b[0moutputs\u001b[0m\u001b[1;33m[\u001b[0m\u001b[1;36m0\u001b[0m\u001b[1;33m]\u001b[0m\u001b[1;33m\u001b[0m\u001b[1;33m\u001b[0m\u001b[0m\n",
            "\u001b[1;32mc:\\Users\\stefa\\anaconda3\\envs\\thesis8\\lib\\site-packages\\torch\\nn\\modules\\module.py\u001b[0m in \u001b[0;36m_call_impl\u001b[1;34m(self, *input, **kwargs)\u001b[0m\n\u001b[0;32m   1108\u001b[0m         if not (self._backward_hooks or self._forward_hooks or self._forward_pre_hooks or _global_backward_hooks\n\u001b[0;32m   1109\u001b[0m                 or _global_forward_hooks or _global_forward_pre_hooks):\n\u001b[1;32m-> 1110\u001b[1;33m             \u001b[1;32mreturn\u001b[0m \u001b[0mforward_call\u001b[0m\u001b[1;33m(\u001b[0m\u001b[1;33m*\u001b[0m\u001b[0minput\u001b[0m\u001b[1;33m,\u001b[0m \u001b[1;33m**\u001b[0m\u001b[0mkwargs\u001b[0m\u001b[1;33m)\u001b[0m\u001b[1;33m\u001b[0m\u001b[1;33m\u001b[0m\u001b[0m\n\u001b[0m\u001b[0;32m   1111\u001b[0m         \u001b[1;31m# Do not call functions when jit is used\u001b[0m\u001b[1;33m\u001b[0m\u001b[1;33m\u001b[0m\u001b[1;33m\u001b[0m\u001b[0m\n\u001b[0;32m   1112\u001b[0m         \u001b[0mfull_backward_hooks\u001b[0m\u001b[1;33m,\u001b[0m \u001b[0mnon_full_backward_hooks\u001b[0m \u001b[1;33m=\u001b[0m \u001b[1;33m[\u001b[0m\u001b[1;33m]\u001b[0m\u001b[1;33m,\u001b[0m \u001b[1;33m[\u001b[0m\u001b[1;33m]\u001b[0m\u001b[1;33m\u001b[0m\u001b[1;33m\u001b[0m\u001b[0m\n",
            "\u001b[1;32mc:\\Users\\stefa\\anaconda3\\envs\\thesis8\\lib\\site-packages\\transformers\\models\\roberta\\modeling_roberta.py\u001b[0m in \u001b[0;36mforward\u001b[1;34m(self, input_ids, attention_mask, token_type_ids, position_ids, head_mask, inputs_embeds, encoder_hidden_states, encoder_attention_mask, past_key_values, use_cache, output_attentions, output_hidden_states, return_dict)\u001b[0m\n\u001b[0;32m    855\u001b[0m             \u001b[0moutput_attentions\u001b[0m\u001b[1;33m=\u001b[0m\u001b[0moutput_attentions\u001b[0m\u001b[1;33m,\u001b[0m\u001b[1;33m\u001b[0m\u001b[1;33m\u001b[0m\u001b[0m\n\u001b[0;32m    856\u001b[0m             \u001b[0moutput_hidden_states\u001b[0m\u001b[1;33m=\u001b[0m\u001b[0moutput_hidden_states\u001b[0m\u001b[1;33m,\u001b[0m\u001b[1;33m\u001b[0m\u001b[1;33m\u001b[0m\u001b[0m\n\u001b[1;32m--> 857\u001b[1;33m             \u001b[0mreturn_dict\u001b[0m\u001b[1;33m=\u001b[0m\u001b[0mreturn_dict\u001b[0m\u001b[1;33m,\u001b[0m\u001b[1;33m\u001b[0m\u001b[1;33m\u001b[0m\u001b[0m\n\u001b[0m\u001b[0;32m    858\u001b[0m         )\n\u001b[0;32m    859\u001b[0m         \u001b[0msequence_output\u001b[0m \u001b[1;33m=\u001b[0m \u001b[0mencoder_outputs\u001b[0m\u001b[1;33m[\u001b[0m\u001b[1;36m0\u001b[0m\u001b[1;33m]\u001b[0m\u001b[1;33m\u001b[0m\u001b[1;33m\u001b[0m\u001b[0m\n",
            "\u001b[1;32mc:\\Users\\stefa\\anaconda3\\envs\\thesis8\\lib\\site-packages\\torch\\nn\\modules\\module.py\u001b[0m in \u001b[0;36m_call_impl\u001b[1;34m(self, *input, **kwargs)\u001b[0m\n\u001b[0;32m   1108\u001b[0m         if not (self._backward_hooks or self._forward_hooks or self._forward_pre_hooks or _global_backward_hooks\n\u001b[0;32m   1109\u001b[0m                 or _global_forward_hooks or _global_forward_pre_hooks):\n\u001b[1;32m-> 1110\u001b[1;33m             \u001b[1;32mreturn\u001b[0m \u001b[0mforward_call\u001b[0m\u001b[1;33m(\u001b[0m\u001b[1;33m*\u001b[0m\u001b[0minput\u001b[0m\u001b[1;33m,\u001b[0m \u001b[1;33m**\u001b[0m\u001b[0mkwargs\u001b[0m\u001b[1;33m)\u001b[0m\u001b[1;33m\u001b[0m\u001b[1;33m\u001b[0m\u001b[0m\n\u001b[0m\u001b[0;32m   1111\u001b[0m         \u001b[1;31m# Do not call functions when jit is used\u001b[0m\u001b[1;33m\u001b[0m\u001b[1;33m\u001b[0m\u001b[1;33m\u001b[0m\u001b[0m\n\u001b[0;32m   1112\u001b[0m         \u001b[0mfull_backward_hooks\u001b[0m\u001b[1;33m,\u001b[0m \u001b[0mnon_full_backward_hooks\u001b[0m \u001b[1;33m=\u001b[0m \u001b[1;33m[\u001b[0m\u001b[1;33m]\u001b[0m\u001b[1;33m,\u001b[0m \u001b[1;33m[\u001b[0m\u001b[1;33m]\u001b[0m\u001b[1;33m\u001b[0m\u001b[1;33m\u001b[0m\u001b[0m\n",
            "\u001b[1;32mc:\\Users\\stefa\\anaconda3\\envs\\thesis8\\lib\\site-packages\\transformers\\models\\roberta\\modeling_roberta.py\u001b[0m in \u001b[0;36mforward\u001b[1;34m(self, hidden_states, attention_mask, head_mask, encoder_hidden_states, encoder_attention_mask, past_key_values, use_cache, output_attentions, output_hidden_states, return_dict)\u001b[0m\n\u001b[0;32m    528\u001b[0m                     \u001b[0mencoder_attention_mask\u001b[0m\u001b[1;33m,\u001b[0m\u001b[1;33m\u001b[0m\u001b[1;33m\u001b[0m\u001b[0m\n\u001b[0;32m    529\u001b[0m                     \u001b[0mpast_key_value\u001b[0m\u001b[1;33m,\u001b[0m\u001b[1;33m\u001b[0m\u001b[1;33m\u001b[0m\u001b[0m\n\u001b[1;32m--> 530\u001b[1;33m                     \u001b[0moutput_attentions\u001b[0m\u001b[1;33m,\u001b[0m\u001b[1;33m\u001b[0m\u001b[1;33m\u001b[0m\u001b[0m\n\u001b[0m\u001b[0;32m    531\u001b[0m                 )\n\u001b[0;32m    532\u001b[0m \u001b[1;33m\u001b[0m\u001b[0m\n",
            "\u001b[1;32mc:\\Users\\stefa\\anaconda3\\envs\\thesis8\\lib\\site-packages\\torch\\nn\\modules\\module.py\u001b[0m in \u001b[0;36m_call_impl\u001b[1;34m(self, *input, **kwargs)\u001b[0m\n\u001b[0;32m   1108\u001b[0m         if not (self._backward_hooks or self._forward_hooks or self._forward_pre_hooks or _global_backward_hooks\n\u001b[0;32m   1109\u001b[0m                 or _global_forward_hooks or _global_forward_pre_hooks):\n\u001b[1;32m-> 1110\u001b[1;33m             \u001b[1;32mreturn\u001b[0m \u001b[0mforward_call\u001b[0m\u001b[1;33m(\u001b[0m\u001b[1;33m*\u001b[0m\u001b[0minput\u001b[0m\u001b[1;33m,\u001b[0m \u001b[1;33m**\u001b[0m\u001b[0mkwargs\u001b[0m\u001b[1;33m)\u001b[0m\u001b[1;33m\u001b[0m\u001b[1;33m\u001b[0m\u001b[0m\n\u001b[0m\u001b[0;32m   1111\u001b[0m         \u001b[1;31m# Do not call functions when jit is used\u001b[0m\u001b[1;33m\u001b[0m\u001b[1;33m\u001b[0m\u001b[1;33m\u001b[0m\u001b[0m\n\u001b[0;32m   1112\u001b[0m         \u001b[0mfull_backward_hooks\u001b[0m\u001b[1;33m,\u001b[0m \u001b[0mnon_full_backward_hooks\u001b[0m \u001b[1;33m=\u001b[0m \u001b[1;33m[\u001b[0m\u001b[1;33m]\u001b[0m\u001b[1;33m,\u001b[0m \u001b[1;33m[\u001b[0m\u001b[1;33m]\u001b[0m\u001b[1;33m\u001b[0m\u001b[1;33m\u001b[0m\u001b[0m\n",
            "\u001b[1;32mc:\\Users\\stefa\\anaconda3\\envs\\thesis8\\lib\\site-packages\\transformers\\models\\roberta\\modeling_roberta.py\u001b[0m in \u001b[0;36mforward\u001b[1;34m(self, hidden_states, attention_mask, head_mask, encoder_hidden_states, encoder_attention_mask, past_key_value, output_attentions)\u001b[0m\n\u001b[0;32m    449\u001b[0m \u001b[1;33m\u001b[0m\u001b[0m\n\u001b[0;32m    450\u001b[0m         layer_output = apply_chunking_to_forward(\n\u001b[1;32m--> 451\u001b[1;33m             \u001b[0mself\u001b[0m\u001b[1;33m.\u001b[0m\u001b[0mfeed_forward_chunk\u001b[0m\u001b[1;33m,\u001b[0m \u001b[0mself\u001b[0m\u001b[1;33m.\u001b[0m\u001b[0mchunk_size_feed_forward\u001b[0m\u001b[1;33m,\u001b[0m \u001b[0mself\u001b[0m\u001b[1;33m.\u001b[0m\u001b[0mseq_len_dim\u001b[0m\u001b[1;33m,\u001b[0m \u001b[0mattention_output\u001b[0m\u001b[1;33m\u001b[0m\u001b[1;33m\u001b[0m\u001b[0m\n\u001b[0m\u001b[0;32m    452\u001b[0m         )\n\u001b[0;32m    453\u001b[0m         \u001b[0moutputs\u001b[0m \u001b[1;33m=\u001b[0m \u001b[1;33m(\u001b[0m\u001b[0mlayer_output\u001b[0m\u001b[1;33m,\u001b[0m\u001b[1;33m)\u001b[0m \u001b[1;33m+\u001b[0m \u001b[0moutputs\u001b[0m\u001b[1;33m\u001b[0m\u001b[1;33m\u001b[0m\u001b[0m\n",
            "\u001b[1;32mc:\\Users\\stefa\\anaconda3\\envs\\thesis8\\lib\\site-packages\\transformers\\pytorch_utils.py\u001b[0m in \u001b[0;36mapply_chunking_to_forward\u001b[1;34m(forward_fn, chunk_size, chunk_dim, *input_tensors)\u001b[0m\n\u001b[0;32m    239\u001b[0m         \u001b[1;32mreturn\u001b[0m \u001b[0mtorch\u001b[0m\u001b[1;33m.\u001b[0m\u001b[0mcat\u001b[0m\u001b[1;33m(\u001b[0m\u001b[0moutput_chunks\u001b[0m\u001b[1;33m,\u001b[0m \u001b[0mdim\u001b[0m\u001b[1;33m=\u001b[0m\u001b[0mchunk_dim\u001b[0m\u001b[1;33m)\u001b[0m\u001b[1;33m\u001b[0m\u001b[1;33m\u001b[0m\u001b[0m\n\u001b[0;32m    240\u001b[0m \u001b[1;33m\u001b[0m\u001b[0m\n\u001b[1;32m--> 241\u001b[1;33m     \u001b[1;32mreturn\u001b[0m \u001b[0mforward_fn\u001b[0m\u001b[1;33m(\u001b[0m\u001b[1;33m*\u001b[0m\u001b[0minput_tensors\u001b[0m\u001b[1;33m)\u001b[0m\u001b[1;33m\u001b[0m\u001b[1;33m\u001b[0m\u001b[0m\n\u001b[0m\u001b[0;32m    242\u001b[0m \u001b[1;33m\u001b[0m\u001b[0m\n\u001b[0;32m    243\u001b[0m \u001b[1;33m\u001b[0m\u001b[0m\n",
            "\u001b[1;32mc:\\Users\\stefa\\anaconda3\\envs\\thesis8\\lib\\site-packages\\transformers\\models\\roberta\\modeling_roberta.py\u001b[0m in \u001b[0;36mfeed_forward_chunk\u001b[1;34m(self, attention_output)\u001b[0m\n\u001b[0;32m    461\u001b[0m     \u001b[1;32mdef\u001b[0m \u001b[0mfeed_forward_chunk\u001b[0m\u001b[1;33m(\u001b[0m\u001b[0mself\u001b[0m\u001b[1;33m,\u001b[0m \u001b[0mattention_output\u001b[0m\u001b[1;33m)\u001b[0m\u001b[1;33m:\u001b[0m\u001b[1;33m\u001b[0m\u001b[1;33m\u001b[0m\u001b[0m\n\u001b[0;32m    462\u001b[0m         \u001b[0mintermediate_output\u001b[0m \u001b[1;33m=\u001b[0m \u001b[0mself\u001b[0m\u001b[1;33m.\u001b[0m\u001b[0mintermediate\u001b[0m\u001b[1;33m(\u001b[0m\u001b[0mattention_output\u001b[0m\u001b[1;33m)\u001b[0m\u001b[1;33m\u001b[0m\u001b[1;33m\u001b[0m\u001b[0m\n\u001b[1;32m--> 463\u001b[1;33m         \u001b[0mlayer_output\u001b[0m \u001b[1;33m=\u001b[0m \u001b[0mself\u001b[0m\u001b[1;33m.\u001b[0m\u001b[0moutput\u001b[0m\u001b[1;33m(\u001b[0m\u001b[0mintermediate_output\u001b[0m\u001b[1;33m,\u001b[0m \u001b[0mattention_output\u001b[0m\u001b[1;33m)\u001b[0m\u001b[1;33m\u001b[0m\u001b[1;33m\u001b[0m\u001b[0m\n\u001b[0m\u001b[0;32m    464\u001b[0m         \u001b[1;32mreturn\u001b[0m \u001b[0mlayer_output\u001b[0m\u001b[1;33m\u001b[0m\u001b[1;33m\u001b[0m\u001b[0m\n\u001b[0;32m    465\u001b[0m \u001b[1;33m\u001b[0m\u001b[0m\n",
            "\u001b[1;32mc:\\Users\\stefa\\anaconda3\\envs\\thesis8\\lib\\site-packages\\torch\\nn\\modules\\module.py\u001b[0m in \u001b[0;36m_call_impl\u001b[1;34m(self, *input, **kwargs)\u001b[0m\n\u001b[0;32m   1108\u001b[0m         if not (self._backward_hooks or self._forward_hooks or self._forward_pre_hooks or _global_backward_hooks\n\u001b[0;32m   1109\u001b[0m                 or _global_forward_hooks or _global_forward_pre_hooks):\n\u001b[1;32m-> 1110\u001b[1;33m             \u001b[1;32mreturn\u001b[0m \u001b[0mforward_call\u001b[0m\u001b[1;33m(\u001b[0m\u001b[1;33m*\u001b[0m\u001b[0minput\u001b[0m\u001b[1;33m,\u001b[0m \u001b[1;33m**\u001b[0m\u001b[0mkwargs\u001b[0m\u001b[1;33m)\u001b[0m\u001b[1;33m\u001b[0m\u001b[1;33m\u001b[0m\u001b[0m\n\u001b[0m\u001b[0;32m   1111\u001b[0m         \u001b[1;31m# Do not call functions when jit is used\u001b[0m\u001b[1;33m\u001b[0m\u001b[1;33m\u001b[0m\u001b[1;33m\u001b[0m\u001b[0m\n\u001b[0;32m   1112\u001b[0m         \u001b[0mfull_backward_hooks\u001b[0m\u001b[1;33m,\u001b[0m \u001b[0mnon_full_backward_hooks\u001b[0m \u001b[1;33m=\u001b[0m \u001b[1;33m[\u001b[0m\u001b[1;33m]\u001b[0m\u001b[1;33m,\u001b[0m \u001b[1;33m[\u001b[0m\u001b[1;33m]\u001b[0m\u001b[1;33m\u001b[0m\u001b[1;33m\u001b[0m\u001b[0m\n",
            "\u001b[1;32mc:\\Users\\stefa\\anaconda3\\envs\\thesis8\\lib\\site-packages\\transformers\\models\\roberta\\modeling_roberta.py\u001b[0m in \u001b[0;36mforward\u001b[1;34m(self, hidden_states, input_tensor)\u001b[0m\n\u001b[0;32m    375\u001b[0m         \u001b[0mhidden_states\u001b[0m \u001b[1;33m=\u001b[0m \u001b[0mself\u001b[0m\u001b[1;33m.\u001b[0m\u001b[0mdense\u001b[0m\u001b[1;33m(\u001b[0m\u001b[0mhidden_states\u001b[0m\u001b[1;33m)\u001b[0m\u001b[1;33m\u001b[0m\u001b[1;33m\u001b[0m\u001b[0m\n\u001b[0;32m    376\u001b[0m         \u001b[0mhidden_states\u001b[0m \u001b[1;33m=\u001b[0m \u001b[0mself\u001b[0m\u001b[1;33m.\u001b[0m\u001b[0mdropout\u001b[0m\u001b[1;33m(\u001b[0m\u001b[0mhidden_states\u001b[0m\u001b[1;33m)\u001b[0m\u001b[1;33m\u001b[0m\u001b[1;33m\u001b[0m\u001b[0m\n\u001b[1;32m--> 377\u001b[1;33m         \u001b[0mhidden_states\u001b[0m \u001b[1;33m=\u001b[0m \u001b[0mself\u001b[0m\u001b[1;33m.\u001b[0m\u001b[0mLayerNorm\u001b[0m\u001b[1;33m(\u001b[0m\u001b[0mhidden_states\u001b[0m \u001b[1;33m+\u001b[0m \u001b[0minput_tensor\u001b[0m\u001b[1;33m)\u001b[0m\u001b[1;33m\u001b[0m\u001b[1;33m\u001b[0m\u001b[0m\n\u001b[0m\u001b[0;32m    378\u001b[0m         \u001b[1;32mreturn\u001b[0m \u001b[0mhidden_states\u001b[0m\u001b[1;33m\u001b[0m\u001b[1;33m\u001b[0m\u001b[0m\n\u001b[0;32m    379\u001b[0m \u001b[1;33m\u001b[0m\u001b[0m\n",
            "\u001b[1;31mKeyboardInterrupt\u001b[0m: "
          ]
        }
      ],
      "source": [
        "vectors = []\n",
        "fails = []\n",
        "for i in tqdm(range(len(df)), leave= True):\n",
        "    if pd.isnull(df.iloc[i]['text_y_cleaned']):\n",
        "        vectors.append(np.zeros(768))\n",
        "\n",
        "    else:\n",
        "        text = re.sub('\\n', ' ', df.iloc[i]['text_y'])\n",
        "\n",
        "        try:\n",
        "            vectors.append(robbert(**tokenizer(text, return_tensors='pt', padding=True, truncation=True))[1][-1][:, 0].detach().numpy())\n",
        "\n",
        "        except Exception as e:\n",
        "\n",
        "            fails.append(i)\n",
        "            vectors.append(np.zeros(768))\n",
        "\n",
        "vectors = [x.flatten() for x in vectors]\n",
        "pickle.dump(vectors, open('pickles/c1_vectors_trunc_c.p','wb'))\n",
        "pickle.dump(fails, open('pickles/c1_fails_trunc_c.p','wb'))"
      ]
    },
    {
      "cell_type": "code",
      "execution_count": 7,
      "metadata": {},
      "outputs": [],
      "source": [
        "c1 = pd.read_csv('dfs/c1_old.csv',index_col = 0)\n",
        "c2 = pd.read_csv('dfs/c2_old.csv',index_col = 0)\n",
        "\n",
        "v1 = pickle.load(open('pickles/c1_vectors.p','rb'))\n",
        "v2 = pickle.load(open('pickles/c2_vectors.p','rb'))\n",
        "\n",
        "v1_trunc = pickle.load(open('pickles/c1_vectors_trunc.p','rb'))\n",
        "v2_trunc = pickle.load(open('pickles/c2_vectors_trunc.p','rb'))"
      ]
    },
    {
      "cell_type": "code",
      "execution_count": 8,
      "metadata": {},
      "outputs": [],
      "source": [
        "def compare(df, v):\n",
        "    it = iter(range(1,len(df)))\n",
        "    sims = [0]\n",
        "\n",
        "    for i in tqdm(it):\n",
        "        a = v[i]\n",
        "        b = v[i-1]\n",
        "\n",
        "        if pd.isnull(df.iloc[i]['text_y_cleaned']):\n",
        "            j = i\n",
        "            skips = 1\n",
        "            j+=1\n",
        "            sims.append(0)\n",
        "\n",
        "            while pd.isnull(df.iloc[j]['text_y_cleaned']):\n",
        "                sims.append(0)\n",
        "                j+=1\n",
        "                skips+=1\n",
        "            \n",
        "            a = v[j]\n",
        "\n",
        "            sims.append(1-(cosine(a,b)))\n",
        "\n",
        "            for _ in range(skips):\n",
        "                i = next(it)\n",
        "\n",
        "        else:\n",
        "            sims.append(1-(cosine(a,b)))\n",
        "\n",
        "    return sims"
      ]
    },
    {
      "cell_type": "code",
      "execution_count": 9,
      "metadata": {},
      "outputs": [
        {
          "name": "stderr",
          "output_type": "stream",
          "text": [
            "0it [00:00, ?it/s]c:\\Users\\stefa\\anaconda3\\envs\\thesis8\\lib\\site-packages\\scipy\\spatial\\distance.py:699: RuntimeWarning: invalid value encountered in double_scalars\n",
            "  dist = 1.0 - uv / np.sqrt(uu * vv)\n",
            "18116it [00:03, 5810.14it/s]\n"
          ]
        }
      ],
      "source": [
        "pd.set_option('display.max_rows', 1000)\n",
        "c1['bert_sim'] = compare(c1, v1)\n",
        "c1[['full_name','page','text_y_cleaned','bert_sim','label']].to_csv('sim_scores/bert_skip_c1.csv')"
      ]
    },
    {
      "cell_type": "code",
      "execution_count": 10,
      "metadata": {},
      "outputs": [
        {
          "name": "stderr",
          "output_type": "stream",
          "text": [
            "16294it [00:02, 6026.47it/s]\n"
          ]
        }
      ],
      "source": [
        "pd.set_option('display.max_rows', 1000)\n",
        "c2['bert_sim'] = compare(c2, v2)\n",
        "c2[['full_name','page','text_y_cleaned','bert_sim','label']].to_csv('sim_scores/bert_skip_c2.csv')"
      ]
    },
    {
      "cell_type": "code",
      "execution_count": 11,
      "metadata": {
        "colab": {
          "base_uri": "https://localhost:8080/"
        },
        "id": "Twis02iGR4au",
        "outputId": "d89169ac-6cdd-4415-998d-9158a690c303"
      },
      "outputs": [
        {
          "name": "stdout",
          "output_type": "stream",
          "text": [
            "Iteration 1, loss = 0.28491390\n",
            "Iteration 2, loss = 0.23433349\n",
            "Iteration 3, loss = 0.21818552\n",
            "Iteration 4, loss = 0.20659018\n",
            "Iteration 5, loss = 0.19953856\n",
            "Iteration 6, loss = 0.18692595\n",
            "Iteration 7, loss = 0.18783377\n",
            "Iteration 8, loss = 0.18418299\n",
            "Iteration 9, loss = 0.17129857\n",
            "Iteration 10, loss = 0.16826632\n",
            "Iteration 11, loss = 0.16541426\n",
            "Iteration 12, loss = 0.16504572\n",
            "Iteration 13, loss = 0.15698980\n",
            "Iteration 14, loss = 0.15248672\n",
            "Iteration 15, loss = 0.14940498\n",
            "Iteration 16, loss = 0.15049046\n",
            "Iteration 17, loss = 0.14886559\n",
            "Iteration 18, loss = 0.14169094\n",
            "Iteration 19, loss = 0.13794728\n",
            "Iteration 20, loss = 0.13344064\n",
            "Iteration 21, loss = 0.13111730\n",
            "Iteration 22, loss = 0.12697437\n",
            "Iteration 23, loss = 0.12819952\n",
            "Iteration 24, loss = 0.12372083\n",
            "Iteration 25, loss = 0.12201273\n",
            "Iteration 26, loss = 0.11631380\n",
            "Iteration 27, loss = 0.11440534\n",
            "Iteration 28, loss = 0.11106603\n",
            "Iteration 29, loss = 0.11064234\n",
            "Iteration 30, loss = 0.11032870\n",
            "Iteration 31, loss = 0.10865633\n",
            "Iteration 32, loss = 0.10375366\n",
            "Iteration 33, loss = 0.10111000\n",
            "Iteration 34, loss = 0.09647101\n",
            "Iteration 35, loss = 0.09562587\n",
            "Iteration 36, loss = 0.09334130\n",
            "Iteration 37, loss = 0.08849771\n",
            "Iteration 38, loss = 0.09118281\n",
            "Iteration 39, loss = 0.08734484\n",
            "Iteration 40, loss = 0.08157333\n",
            "Iteration 41, loss = 0.08502223\n",
            "Iteration 42, loss = 0.08162979\n",
            "Iteration 43, loss = 0.07938613\n",
            "Iteration 44, loss = 0.07564368\n",
            "Iteration 45, loss = 0.07239148\n",
            "Iteration 46, loss = 0.07372079\n",
            "Iteration 47, loss = 0.07085081\n",
            "Iteration 48, loss = 0.07139071\n",
            "Iteration 49, loss = 0.07024907\n",
            "Iteration 50, loss = 0.06979242\n",
            "Iteration 51, loss = 0.06434357\n",
            "Iteration 52, loss = 0.06270838\n",
            "Iteration 53, loss = 0.06361896\n",
            "Iteration 54, loss = 0.05980460\n",
            "Iteration 55, loss = 0.06452046\n",
            "Iteration 56, loss = 0.05800061\n",
            "Iteration 57, loss = 0.05654272\n",
            "Iteration 58, loss = 0.05870057\n",
            "Iteration 59, loss = 0.05510562\n",
            "Iteration 60, loss = 0.05079772\n",
            "Iteration 61, loss = 0.05314509\n",
            "Iteration 62, loss = 0.05739372\n",
            "Iteration 63, loss = 0.05376288\n",
            "Iteration 64, loss = 0.04994638\n",
            "Iteration 65, loss = 0.05133335\n",
            "Iteration 66, loss = 0.04739998\n",
            "Iteration 67, loss = 0.05095262\n",
            "Iteration 68, loss = 0.04599929\n",
            "Iteration 69, loss = 0.04711036\n",
            "Iteration 70, loss = 0.05002545\n",
            "Iteration 71, loss = 0.04973606\n",
            "Iteration 72, loss = 0.04691642\n",
            "Iteration 73, loss = 0.04485906\n",
            "Iteration 74, loss = 0.04122266\n",
            "Iteration 75, loss = 0.04425103\n",
            "Iteration 76, loss = 0.04634063\n",
            "Iteration 77, loss = 0.04357114\n",
            "Iteration 78, loss = 0.04155154\n",
            "Iteration 79, loss = 0.04558664\n",
            "Iteration 80, loss = 0.04169613\n",
            "Iteration 81, loss = 0.03877251\n",
            "Iteration 82, loss = 0.03913851\n",
            "Iteration 83, loss = 0.04050272\n",
            "Iteration 84, loss = 0.04294355\n",
            "Iteration 85, loss = 0.03599432\n",
            "Iteration 86, loss = 0.04023003\n",
            "Iteration 87, loss = 0.04169733\n",
            "Iteration 88, loss = 0.03536956\n",
            "Iteration 89, loss = 0.03392643\n",
            "Iteration 90, loss = 0.03834603\n",
            "Iteration 91, loss = 0.03392553\n",
            "Iteration 92, loss = 0.03541012\n",
            "Iteration 93, loss = 0.03378106\n",
            "Iteration 94, loss = 0.03716401\n",
            "Iteration 95, loss = 0.04110352\n",
            "Iteration 96, loss = 0.03203126\n",
            "Iteration 97, loss = 0.03465550\n",
            "Iteration 98, loss = 0.03568721\n",
            "Iteration 99, loss = 0.03403564\n",
            "Iteration 100, loss = 0.03487442\n",
            "Iteration 101, loss = 0.03305354\n",
            "Iteration 102, loss = 0.04029468\n",
            "Iteration 103, loss = 0.04225281\n",
            "Iteration 104, loss = 0.03174324\n",
            "Iteration 105, loss = 0.03315673\n",
            "Iteration 106, loss = 0.03327314\n",
            "Iteration 107, loss = 0.03222251\n",
            "Iteration 108, loss = 0.04299745\n",
            "Iteration 109, loss = 0.02966261\n",
            "Iteration 110, loss = 0.02885575\n",
            "Iteration 111, loss = 0.03632097\n",
            "Iteration 112, loss = 0.03191413\n",
            "Iteration 113, loss = 0.02772637\n",
            "Iteration 114, loss = 0.03380655\n",
            "Iteration 115, loss = 0.03479288\n",
            "Iteration 116, loss = 0.03358301\n",
            "Iteration 117, loss = 0.02907064\n",
            "Iteration 118, loss = 0.02924596\n",
            "Iteration 119, loss = 0.03050953\n",
            "Iteration 120, loss = 0.03583638\n",
            "Iteration 121, loss = 0.03788824\n",
            "Iteration 122, loss = 0.02796517\n",
            "Iteration 123, loss = 0.03440610\n",
            "Iteration 124, loss = 0.03481416\n",
            "Training loss did not improve more than tol=0.000100 for 10 consecutive epochs. Stopping.\n"
          ]
        },
        {
          "data": {
            "text/plain": [
              "MLPClassifier(batch_size=50, hidden_layer_sizes=(128,), verbose=1)"
            ]
          },
          "execution_count": 11,
          "metadata": {},
          "output_type": "execute_result"
        }
      ],
      "source": [
        "from sklearn.neural_network import MLPClassifier\n",
        "\n",
        "clf2 = MLPClassifier(\n",
        "    hidden_layer_sizes = (128,),\n",
        "    batch_size = 50,\n",
        "    solver = 'adam',\n",
        "    verbose = 1\n",
        ")\n",
        "\n",
        "clf2.fit(v2, c2['label'])"
      ]
    },
    {
      "cell_type": "code",
      "execution_count": 12,
      "metadata": {},
      "outputs": [
        {
          "name": "stdout",
          "output_type": "stream",
          "text": [
            "Iteration 1, loss = 0.39970057\n",
            "Iteration 2, loss = 0.35566958\n",
            "Iteration 3, loss = 0.33829834\n",
            "Iteration 4, loss = 0.32052610\n",
            "Iteration 5, loss = 0.32782533\n",
            "Iteration 6, loss = 0.30855084\n",
            "Iteration 7, loss = 0.29661655\n",
            "Iteration 8, loss = 0.28572868\n",
            "Iteration 9, loss = 0.27781963\n",
            "Iteration 10, loss = 0.27187466\n",
            "Iteration 11, loss = 0.26379269\n",
            "Iteration 12, loss = 0.25832378\n",
            "Iteration 13, loss = 0.25375050\n",
            "Iteration 14, loss = 0.24374640\n",
            "Iteration 15, loss = 0.23886669\n",
            "Iteration 16, loss = 0.23181797\n",
            "Iteration 17, loss = 0.22543432\n",
            "Iteration 18, loss = 0.22296744\n",
            "Iteration 19, loss = 0.21625912\n",
            "Iteration 20, loss = 0.21498285\n",
            "Iteration 21, loss = 0.20395414\n",
            "Iteration 22, loss = 0.19965910\n",
            "Iteration 23, loss = 0.19340577\n",
            "Iteration 24, loss = 0.19073066\n",
            "Iteration 25, loss = 0.18470131\n",
            "Iteration 26, loss = 0.18144550\n",
            "Iteration 27, loss = 0.17510053\n",
            "Iteration 28, loss = 0.17735978\n",
            "Iteration 29, loss = 0.21596836\n",
            "Iteration 30, loss = 0.17847761\n",
            "Iteration 31, loss = 0.19982902\n",
            "Iteration 32, loss = 0.16684387\n",
            "Iteration 33, loss = 0.16370303\n",
            "Iteration 34, loss = 0.16295864\n",
            "Iteration 35, loss = 0.15757464\n",
            "Iteration 36, loss = 0.15323409\n",
            "Iteration 37, loss = 0.14933987\n",
            "Iteration 38, loss = 0.14313125\n",
            "Iteration 39, loss = 0.15159379\n",
            "Iteration 40, loss = 0.13864822\n",
            "Iteration 41, loss = 0.14475610\n",
            "Iteration 42, loss = 0.13053854\n",
            "Iteration 43, loss = 0.13230746\n",
            "Iteration 44, loss = 0.12688902\n",
            "Iteration 45, loss = 0.12457512\n",
            "Iteration 46, loss = 0.12662087\n",
            "Iteration 47, loss = 0.11530157\n",
            "Iteration 48, loss = 0.11788778\n",
            "Iteration 49, loss = 0.11753744\n",
            "Iteration 50, loss = 0.11489925\n",
            "Iteration 51, loss = 0.11723497\n",
            "Iteration 52, loss = 0.10842139\n",
            "Iteration 53, loss = 0.11920847\n",
            "Iteration 54, loss = 0.10647327\n",
            "Iteration 55, loss = 0.09897957\n",
            "Iteration 56, loss = 0.10243395\n",
            "Iteration 57, loss = 0.10309900\n",
            "Iteration 58, loss = 0.09872796\n",
            "Iteration 59, loss = 0.09704044\n",
            "Iteration 60, loss = 0.09352176\n",
            "Iteration 61, loss = 0.09268352\n",
            "Iteration 62, loss = 0.09023107\n",
            "Iteration 63, loss = 0.09171994\n",
            "Iteration 64, loss = 0.08610129\n",
            "Iteration 65, loss = 0.08796198\n",
            "Iteration 66, loss = 0.08239187\n",
            "Iteration 67, loss = 0.08454925\n",
            "Iteration 68, loss = 0.08269220\n",
            "Iteration 69, loss = 0.07723233\n",
            "Iteration 70, loss = 0.08139122\n",
            "Iteration 71, loss = 0.13290081\n",
            "Iteration 72, loss = 0.07966204\n",
            "Iteration 73, loss = 0.07677858\n",
            "Iteration 74, loss = 0.07746143\n",
            "Iteration 75, loss = 0.07192635\n",
            "Iteration 76, loss = 0.07764295\n",
            "Iteration 77, loss = 0.07406690\n",
            "Iteration 78, loss = 0.06481899\n",
            "Iteration 79, loss = 0.07603089\n",
            "Iteration 80, loss = 0.07033338\n",
            "Iteration 81, loss = 0.06890123\n",
            "Iteration 82, loss = 0.06753991\n",
            "Iteration 83, loss = 0.06976541\n",
            "Iteration 84, loss = 0.07590436\n",
            "Iteration 85, loss = 0.06122879\n",
            "Iteration 86, loss = 0.06082759\n",
            "Iteration 87, loss = 0.05940279\n",
            "Iteration 88, loss = 0.06400649\n",
            "Iteration 89, loss = 0.06769943\n",
            "Iteration 90, loss = 0.06013291\n",
            "Iteration 91, loss = 0.06028658\n",
            "Iteration 92, loss = 0.05812951\n",
            "Iteration 93, loss = 0.05864777\n",
            "Iteration 94, loss = 0.05746377\n",
            "Iteration 95, loss = 0.06424135\n",
            "Iteration 96, loss = 0.06062354\n",
            "Iteration 97, loss = 0.05758990\n",
            "Iteration 98, loss = 0.07586115\n",
            "Iteration 99, loss = 0.04835348\n",
            "Iteration 100, loss = 0.06279562\n",
            "Iteration 101, loss = 0.05001021\n",
            "Iteration 102, loss = 0.05462568\n",
            "Iteration 103, loss = 0.05368937\n",
            "Iteration 104, loss = 0.04862125\n",
            "Iteration 105, loss = 0.12787603\n",
            "Iteration 106, loss = 0.05153518\n",
            "Iteration 107, loss = 0.05028653\n",
            "Iteration 108, loss = 0.05083926\n",
            "Iteration 109, loss = 0.05000833\n",
            "Iteration 110, loss = 0.04986793\n",
            "Training loss did not improve more than tol=0.000100 for 10 consecutive epochs. Stopping.\n"
          ]
        },
        {
          "data": {
            "text/plain": [
              "MLPClassifier(batch_size=50, hidden_layer_sizes=(128,), verbose=1)"
            ]
          },
          "execution_count": 12,
          "metadata": {},
          "output_type": "execute_result"
        }
      ],
      "source": [
        "clf1 = MLPClassifier(\n",
        "    hidden_layer_sizes = (128,),\n",
        "    batch_size = 50,\n",
        "    solver = 'adam',\n",
        "    verbose = 1\n",
        ")\n",
        "\n",
        "clf1.fit(v1, c1['label'])"
      ]
    },
    {
      "cell_type": "code",
      "execution_count": 13,
      "metadata": {},
      "outputs": [],
      "source": [
        "c2['bert_proba'] = clf1.predict_proba(v2)[:,1]\n",
        "c1['bert_proba'] = clf2.predict_proba(v1)[:,1]"
      ]
    },
    {
      "cell_type": "code",
      "execution_count": 16,
      "metadata": {
        "colab": {
          "base_uri": "https://localhost:8080/"
        },
        "id": "yto4MJj3UnQg",
        "outputId": "3601be66-c781-4daf-ff72-92e24627203b"
      },
      "outputs": [],
      "source": [
        "def change_format(y):\n",
        "    y[0] = 1\n",
        "    indices = [i for i, x in enumerate(y) if x == 1]+[len(y)-1]\n",
        "    result = []\n",
        "    for i in range(len(indices)):\n",
        "        if i != len(indices)-1:\n",
        "            result.append(indices[i+1] - indices[i])\n",
        "    result[-1]+=1\n",
        "    return result"
      ]
    },
    {
      "cell_type": "code",
      "execution_count": 17,
      "metadata": {},
      "outputs": [],
      "source": [
        "def make_index(split):\n",
        "    '''Turns a doc length vector like [1,2,1,3,3,5] into a dict with pagenumbers as keys and the set of all \n",
        "    pagenumbers in the same document as value.\n",
        "    This thus is an index which gives for every page its cluster.'''\n",
        "    l= sum(split)\n",
        "    pages= list(np.arange(l))\n",
        "    out = defaultdict(set)\n",
        "    for block_length in split:\n",
        "        block= pages[:block_length]\n",
        "        pages= pages[block_length:]\n",
        "        for page in block:\n",
        "            out[page]= set(block)\n",
        "    return out"
      ]
    },
    {
      "cell_type": "code",
      "execution_count": 18,
      "metadata": {},
      "outputs": [],
      "source": [
        "def Bcubed(truth,pred):\n",
        "    assert sum(truth)==sum(pred)  # same amount of pages\n",
        "    truth,pred = make_index(truth), make_index(pred)\n",
        "    \n",
        "    df  ={i:{'size':len(truth[i]),'P':0,'R':0,'F1':0} for i in truth}\n",
        "    for i in truth:\n",
        "        df[i]['P']= len(truth[i] & pred[i])/len(pred[i]) \n",
        "        df[i]['R']= len(truth[i] & pred[i])/len(truth[i])\n",
        "        df[i]['F1']= (2*df[i]['P']*df[i]['R'])/(df[i]['P']+df[i]['R'])\n",
        "    df= pd.DataFrame.from_dict(df, orient='index')\n",
        "    df.index_name='PageNr'\n",
        "    return  df\n",
        "\n",
        "\n",
        "def MeanBcubed(truth,pred):\n",
        "    assert sum(truth)==sum(pred)  # same amount of pages\n",
        "    return Bcubed(truth,pred).mean()"
      ]
    },
    {
      "cell_type": "code",
      "execution_count": 13,
      "metadata": {
        "colab": {
          "base_uri": "https://localhost:8080/",
          "height": 1000
        },
        "id": "lLHXwoqbEMlE",
        "outputId": "cafc8be1-5c6c-4abb-c727-53dae3faa13d"
      },
      "outputs": [],
      "source": [
        "from sklearn.linear_model import LogisticRegression\n",
        "from sklearn.tree import DecisionTreeClassifier\n",
        "from sklearn.ensemble import RandomForestClassifier\n",
        "from sklearn.neural_network import MLPClassifier\n",
        "from sklearn.metrics import precision_score, recall_score, f1_score\n",
        "from collections import defaultdict\n",
        "\n",
        "_c1 = c1[~pd.isnull(c1['text_y_cleaned'])]\n",
        "_c2 = c2[~pd.isnull(c2['text_y_cleaned'])]"
      ]
    },
    {
      "cell_type": "markdown",
      "metadata": {},
      "source": [
        "# Train on c1, predict c2"
      ]
    },
    {
      "cell_type": "markdown",
      "metadata": {},
      "source": [
        "### Bert Vectors only"
      ]
    },
    {
      "cell_type": "code",
      "execution_count": 15,
      "metadata": {},
      "outputs": [
        {
          "name": "stdout",
          "output_type": "stream",
          "text": [
            "size    68.910383\n",
            "P        0.625141\n",
            "R        0.719308\n",
            "F1       0.513387\n",
            "dtype: float64\n"
          ]
        },
        {
          "data": {
            "text/plain": [
              "(0.4579242636746143, 0.3075836081017428, 0.36799098337559877)"
            ]
          },
          "execution_count": 15,
          "metadata": {},
          "output_type": "execute_result"
        }
      ],
      "source": [
        "X_train = v1\n",
        "y_train = c1['label']\n",
        "X_test = v2\n",
        "y_test = c2['label']\n",
        "\n",
        "clf = MLPClassifier(\n",
        "    hidden_layer_sizes = (128,),\n",
        "    batch_size = 50,\n",
        "    solver = 'adam',\n",
        "    verbose = 0\n",
        ")\n",
        "\n",
        "clf.fit(X_train, y_train)\n",
        "\n",
        "true = y_test\n",
        "preds = clf.predict(X_test)\n",
        "vb_truth, vb_pred = change_format(y_test.values), change_format(clf.predict(X_test))\n",
        "print(MeanBcubed(vb_truth,vb_pred))\n",
        "precision_score(true, preds), recall_score(true, preds), f1_score(true, preds)"
      ]
    },
    {
      "cell_type": "markdown",
      "metadata": {},
      "source": [
        "### Visual + Bert_similarity i-1"
      ]
    },
    {
      "cell_type": "code",
      "execution_count": 55,
      "metadata": {},
      "outputs": [
        {
          "name": "stdout",
          "output_type": "stream",
          "text": [
            "size    68.910383\n",
            "P        0.460502\n",
            "R        0.820065\n",
            "F1       0.369308\n",
            "dtype: float64\n"
          ]
        },
        {
          "data": {
            "text/plain": [
              "(0.4175084175084175, 0.2920395666509656, 0.3436807095343681)"
            ]
          },
          "execution_count": 55,
          "metadata": {},
          "output_type": "execute_result"
        }
      ],
      "source": [
        "features = ['font_diff2','crop_diff','bert_sim']\n",
        "\n",
        "X_train = c1[features]\n",
        "y_train = c1['label']\n",
        "X_test = c2[features]\n",
        "y_test = c2['label']\n",
        "\n",
        "model = LogisticRegression()\n",
        "\n",
        "model.fit(X_train, y_train)\n",
        "\n",
        "true = y_test\n",
        "preds = model.predict(X_test)\n",
        "vb_truth, vb_pred = change_format(y_test.values), change_format(model.predict(X_test))\n",
        "print(MeanBcubed(vb_truth,vb_pred))\n",
        "precision_score(true, preds), recall_score(true, preds), f1_score(true, preds)"
      ]
    },
    {
      "cell_type": "markdown",
      "metadata": {},
      "source": [
        "### Visual + Bert_proba"
      ]
    },
    {
      "cell_type": "code",
      "execution_count": 58,
      "metadata": {},
      "outputs": [
        {
          "name": "stdout",
          "output_type": "stream",
          "text": [
            "size    68.910383\n",
            "P        0.621317\n",
            "R        0.717870\n",
            "F1       0.447542\n",
            "dtype: float64\n"
          ]
        },
        {
          "data": {
            "text/plain": [
              "(0.3566299664911441, 0.3509185115402732, 0.3537511870845204)"
            ]
          },
          "execution_count": 58,
          "metadata": {},
          "output_type": "execute_result"
        }
      ],
      "source": [
        "features = ['font_diff2','crop_diff','bert_proba']\n",
        "\n",
        "X_train = c1[features]\n",
        "y_train = c1['label']\n",
        "X_test = c2[features]\n",
        "y_test = c2['label']\n",
        "\n",
        "model = LogisticRegression()\n",
        "\n",
        "model.fit(X_train, y_train)\n",
        "\n",
        "true = y_test\n",
        "preds = model.predict(X_test)\n",
        "vb_truth, vb_pred = change_format(y_test.values), change_format(model.predict(X_test))\n",
        "print(MeanBcubed(vb_truth,vb_pred))\n",
        "precision_score(true, preds), recall_score(true, preds), f1_score(true, preds)"
      ]
    },
    {
      "cell_type": "markdown",
      "metadata": {},
      "source": [
        "# Train on c2, predict c1"
      ]
    },
    {
      "cell_type": "markdown",
      "metadata": {},
      "source": [
        "### Bert vectors only"
      ]
    },
    {
      "cell_type": "code",
      "execution_count": 62,
      "metadata": {},
      "outputs": [
        {
          "name": "stdout",
          "output_type": "stream",
          "text": [
            "size    34.380975\n",
            "P        0.654473\n",
            "R        0.730418\n",
            "F1       0.550707\n",
            "dtype: float64\n"
          ]
        },
        {
          "data": {
            "text/plain": [
              "(0.5359669811320755, 0.46448645886561063, 0.49767314535997814)"
            ]
          },
          "execution_count": 62,
          "metadata": {},
          "output_type": "execute_result"
        }
      ],
      "source": [
        "# features = ['font_diff2','crop_diff','text_d2v_sim_score']\n",
        "X_train = v2\n",
        "y_train = c2['label']\n",
        "X_test = v1\n",
        "y_test = c1['label']\n",
        "\n",
        "clf = MLPClassifier(\n",
        "    hidden_layer_sizes = (128,),\n",
        "    batch_size = 50,\n",
        "    solver = 'adam',\n",
        "    verbose = 0\n",
        ")\n",
        "\n",
        "clf.fit(X_train, y_train)\n",
        "\n",
        "true = y_test\n",
        "preds = clf.predict(X_test)\n",
        "vb_truth, vb_pred = change_format(y_test.values), change_format(clf.predict(X_test))\n",
        "print(MeanBcubed(vb_truth,vb_pred))\n",
        "precision_score(true, preds), recall_score(true, preds), f1_score(true, preds)"
      ]
    },
    {
      "cell_type": "markdown",
      "metadata": {},
      "source": [
        "### Visual + Bert_similarity i-1"
      ]
    },
    {
      "cell_type": "code",
      "execution_count": 36,
      "metadata": {},
      "outputs": [
        {
          "name": "stdout",
          "output_type": "stream",
          "text": [
            "size    34.380975\n",
            "P        0.220258\n",
            "R        0.931222\n",
            "F1       0.240076\n",
            "dtype: float64\n"
          ]
        },
        {
          "data": {
            "text/plain": [
              "(0.36087484811664644, 0.07588145120081757, 0.12539582013932868)"
            ]
          },
          "execution_count": 36,
          "metadata": {},
          "output_type": "execute_result"
        }
      ],
      "source": [
        "features = ['font_diff2','crop_diff','bert_sim']\n",
        "\n",
        "X_train = c2[features]\n",
        "y_train = c2['label']\n",
        "X_test = c1[features]\n",
        "y_test = c1['label']\n",
        "\n",
        "clf = LogisticRegression()\n",
        "\n",
        "clf.fit(X_train, y_train)\n",
        "\n",
        "true = y_test\n",
        "preds = clf.predict(X_test)\n",
        "vb_truth, vb_pred = change_format(y_test.values), change_format(clf.predict(X_test))\n",
        "print(MeanBcubed(vb_truth,vb_pred))\n",
        "precision_score(true, preds), recall_score(true, preds), f1_score(true, preds)"
      ]
    },
    {
      "cell_type": "markdown",
      "metadata": {},
      "source": [
        "### Visual + Bert_proba"
      ]
    },
    {
      "cell_type": "code",
      "execution_count": 41,
      "metadata": {},
      "outputs": [
        {
          "name": "stdout",
          "output_type": "stream",
          "text": [
            "size    34.380975\n",
            "P        0.337096\n",
            "R        0.964473\n",
            "F1       0.408648\n",
            "dtype: float64\n"
          ]
        },
        {
          "data": {
            "text/plain": [
              "(0.8282352941176471, 0.17986714358712313, 0.29554995801847184)"
            ]
          },
          "execution_count": 41,
          "metadata": {},
          "output_type": "execute_result"
        }
      ],
      "source": [
        "features = ['font_diff2','crop_diff','bert_proba']\n",
        "\n",
        "X_train = c2[features]\n",
        "y_train = c2['label']\n",
        "X_test = c1[features]\n",
        "y_test = c1['label']\n",
        "\n",
        "clf = LogisticRegression()\n",
        "\n",
        "clf.fit(X_train, y_train)\n",
        "\n",
        "true = y_test\n",
        "preds = clf.predict(X_test)\n",
        "vb_truth, vb_pred = change_format(y_test.values), change_format(clf.predict(X_test))\n",
        "print(MeanBcubed(vb_truth,vb_pred))\n",
        "precision_score(true, preds), recall_score(true, preds), f1_score(true, preds)"
      ]
    },
    {
      "cell_type": "code",
      "execution_count": 11,
      "metadata": {},
      "outputs": [
        {
          "name": "stderr",
          "output_type": "stream",
          "text": [
            "100%|██████████| 19101/19101 [00:03<00:00, 5088.17it/s]\n",
            "100%|██████████| 16537/16537 [00:03<00:00, 5063.69it/s]\n"
          ]
        }
      ],
      "source": [
        "v1_plus = [np.append(v1[i], [c1.iloc[i]['font_diff2'], c1.iloc[i]['crop_diff']]) for i in tqdm(range(len(v1)))]\n",
        "v2_plus = [np.append(v2[i], [c1.iloc[i]['font_diff2'], c1.iloc[i]['crop_diff']]) for i in tqdm(range(len(v2)))]"
      ]
    },
    {
      "cell_type": "code",
      "execution_count": 25,
      "metadata": {},
      "outputs": [
        {
          "name": "stdout",
          "output_type": "stream",
          "text": [
            "size    34.380975\n",
            "P        0.768560\n",
            "R        0.649223\n",
            "F1       0.568055\n",
            "dtype: float64\n"
          ]
        },
        {
          "data": {
            "text/plain": [
              "(0.49170305676855897, 0.575370464997445, 0.5302566517541795)"
            ]
          },
          "execution_count": 25,
          "metadata": {},
          "output_type": "execute_result"
        }
      ],
      "source": [
        "# features = ['font_diff2','crop_diff','text_d2v_sim_score']\n",
        "X_train = v2_plus\n",
        "y_train = c2['label']\n",
        "X_test = v1_plus\n",
        "y_test = c1['label']\n",
        "\n",
        "clf = MLPClassifier(\n",
        "    hidden_layer_sizes = (128,),\n",
        "    batch_size = 50,\n",
        "    solver = 'adam',\n",
        "    verbose = 0\n",
        ")\n",
        "\n",
        "clf.fit(X_train, y_train)\n",
        "\n",
        "true = y_test\n",
        "preds = clf.predict(X_test)\n",
        "vb_truth, vb_pred = change_format(y_test.values), change_format(clf.predict(X_test))\n",
        "print(MeanBcubed(vb_truth,vb_pred))\n",
        "precision_score(true, preds), recall_score(true, preds), f1_score(true, preds)"
      ]
    },
    {
      "cell_type": "code",
      "execution_count": 10,
      "metadata": {},
      "outputs": [
        {
          "ename": "NameError",
          "evalue": "name 'v1_plus' is not defined",
          "output_type": "error",
          "traceback": [
            "\u001b[1;31m---------------------------------------------------------------------------\u001b[0m",
            "\u001b[1;31mNameError\u001b[0m                                 Traceback (most recent call last)",
            "\u001b[1;32m~\\AppData\\Local\\Temp\\ipykernel_17792\\1358449777.py\u001b[0m in \u001b[0;36m<module>\u001b[1;34m\u001b[0m\n\u001b[0;32m      1\u001b[0m \u001b[1;31m# features = ['font_diff2','crop_diff','text_d2v_sim_score']\u001b[0m\u001b[1;33m\u001b[0m\u001b[1;33m\u001b[0m\u001b[1;33m\u001b[0m\u001b[0m\n\u001b[1;32m----> 2\u001b[1;33m \u001b[0mX_train\u001b[0m \u001b[1;33m=\u001b[0m \u001b[0mv1_plus\u001b[0m\u001b[1;33m\u001b[0m\u001b[1;33m\u001b[0m\u001b[0m\n\u001b[0m\u001b[0;32m      3\u001b[0m \u001b[0my_train\u001b[0m \u001b[1;33m=\u001b[0m \u001b[0mc1\u001b[0m\u001b[1;33m[\u001b[0m\u001b[1;34m'label'\u001b[0m\u001b[1;33m]\u001b[0m\u001b[1;33m\u001b[0m\u001b[1;33m\u001b[0m\u001b[0m\n\u001b[0;32m      4\u001b[0m \u001b[0mX_test\u001b[0m \u001b[1;33m=\u001b[0m \u001b[0mv2_plus\u001b[0m\u001b[1;33m\u001b[0m\u001b[1;33m\u001b[0m\u001b[0m\n\u001b[0;32m      5\u001b[0m \u001b[0my_test\u001b[0m \u001b[1;33m=\u001b[0m \u001b[0mc2\u001b[0m\u001b[1;33m[\u001b[0m\u001b[1;34m'label'\u001b[0m\u001b[1;33m]\u001b[0m\u001b[1;33m\u001b[0m\u001b[1;33m\u001b[0m\u001b[0m\n",
            "\u001b[1;31mNameError\u001b[0m: name 'v1_plus' is not defined"
          ]
        }
      ],
      "source": [
        "# features = ['font_diff2','crop_diff','text_d2v_sim_score']\n",
        "X_train = v1_plus\n",
        "y_train = c1['label']\n",
        "X_test = v2_plus\n",
        "y_test = c2['label']\n",
        "\n",
        "clf = MLPClassifier(\n",
        "    hidden_layer_sizes = (128,),\n",
        "    batch_size = 50,\n",
        "    solver = 'adam',\n",
        "    verbose = 0\n",
        ")\n",
        "\n",
        "clf.fit(X_train, y_train)\n",
        "\n",
        "true = y_test\n",
        "preds = clf.predict(X_test)\n",
        "vb_truth, vb_pred = change_format(y_test.values), change_format(clf.predict(X_test))\n",
        "print(MeanBcubed(vb_truth,vb_pred))\n",
        "precision_score(true, preds), recall_score(true, preds), f1_score(true, preds)"
      ]
    },
    {
      "cell_type": "code",
      "execution_count": 19,
      "metadata": {},
      "outputs": [
        {
          "name": "stdout",
          "output_type": "stream",
          "text": [
            "size    68.910383\n",
            "P        0.597625\n",
            "R        0.716711\n",
            "F1       0.495238\n",
            "dtype: float64\n"
          ]
        },
        {
          "data": {
            "text/plain": [
              "(0.40730337078651685, 0.20489872821479038, 0.2726418050767784)"
            ]
          },
          "execution_count": 19,
          "metadata": {},
          "output_type": "execute_result"
        }
      ],
      "source": [
        "# features = ['font_diff2','crop_diff','text_d2v_sim_score']\n",
        "X_train = v1_trunc\n",
        "y_train = c1['label']\n",
        "X_test = v2_trunc\n",
        "y_test = c2['label']\n",
        "\n",
        "clf = MLPClassifier(\n",
        "    hidden_layer_sizes = (128,),\n",
        "    batch_size = 50,\n",
        "    solver = 'adam',\n",
        "    verbose = 0\n",
        ")\n",
        "\n",
        "clf.fit(X_train, y_train)\n",
        "\n",
        "true = y_test\n",
        "preds = clf.predict(X_test)\n",
        "vb_truth, vb_pred = change_format(y_test.values), change_format(clf.predict(X_test))\n",
        "print(MeanBcubed(vb_truth,vb_pred))\n",
        "precision_score(true, preds), recall_score(true, preds), f1_score(true, preds)"
      ]
    },
    {
      "cell_type": "code",
      "execution_count": 20,
      "metadata": {},
      "outputs": [
        {
          "name": "stdout",
          "output_type": "stream",
          "text": [
            "size    34.380975\n",
            "P        0.798517\n",
            "R        0.616726\n",
            "F1       0.570875\n",
            "dtype: float64\n"
          ]
        },
        {
          "data": {
            "text/plain": [
              "(0.48612497504491914, 0.6221257026060296, 0.5457805670738541)"
            ]
          },
          "execution_count": 20,
          "metadata": {},
          "output_type": "execute_result"
        }
      ],
      "source": [
        "# features = ['font_diff2','crop_diff','text_d2v_sim_score']\n",
        "X_train = v2_trunc\n",
        "y_train = c2['label']\n",
        "X_test = v1_trunc\n",
        "y_test = c1['label']\n",
        "\n",
        "clf = MLPClassifier(\n",
        "    hidden_layer_sizes = (128,),\n",
        "    batch_size = 50,\n",
        "    solver = 'adam',\n",
        "    verbose = 0\n",
        ")\n",
        "\n",
        "clf.fit(X_train, y_train)\n",
        "\n",
        "true = y_test\n",
        "preds = clf.predict(X_test)\n",
        "vb_truth, vb_pred = change_format(y_test.values), change_format(clf.predict(X_test))\n",
        "print(MeanBcubed(vb_truth,vb_pred))\n",
        "precision_score(true, preds), recall_score(true, preds), f1_score(true, preds)"
      ]
    },
    {
      "cell_type": "code",
      "execution_count": 22,
      "metadata": {},
      "outputs": [
        {
          "name": "stderr",
          "output_type": "stream",
          "text": [
            "100%|██████████| 19101/19101 [00:03<00:00, 4838.15it/s]\n",
            "100%|██████████| 16537/16537 [00:03<00:00, 4907.12it/s]\n"
          ]
        }
      ],
      "source": [
        "v1_plus_trunc = [np.append(v1_trunc[i], [c1.iloc[i]['font_diff2'], c1.iloc[i]['crop_diff']]) for i in tqdm(range(len(v1_trunc)))]\n",
        "v2_plus_trunc = [np.append(v2_trunc[i], [c1.iloc[i]['font_diff2'], c1.iloc[i]['crop_diff']]) for i in tqdm(range(len(v2_trunc)))]"
      ]
    },
    {
      "cell_type": "code",
      "execution_count": 23,
      "metadata": {},
      "outputs": [
        {
          "name": "stdout",
          "output_type": "stream",
          "text": [
            "size    68.910383\n",
            "P        0.622936\n",
            "R        0.637141\n",
            "F1       0.456531\n",
            "dtype: float64\n"
          ]
        },
        {
          "data": {
            "text/plain": [
              "(0.3352984524686809, 0.2143193593970796, 0.2614942528735632)"
            ]
          },
          "execution_count": 23,
          "metadata": {},
          "output_type": "execute_result"
        }
      ],
      "source": [
        "# features = ['font_diff2','crop_diff','text_d2v_sim_score']\n",
        "X_train = v1_plus_trunc\n",
        "y_train = c1['label']\n",
        "X_test = v2_plus_trunc\n",
        "y_test = c2['label']\n",
        "\n",
        "clf = MLPClassifier(\n",
        "    hidden_layer_sizes = (128,),\n",
        "    batch_size = 50,\n",
        "    solver = 'adam',\n",
        "    verbose = 0\n",
        ")\n",
        "\n",
        "clf.fit(X_train, y_train)\n",
        "\n",
        "true = y_test\n",
        "preds = clf.predict(X_test)\n",
        "vb_truth, vb_pred = change_format(y_test.values), change_format(clf.predict(X_test))\n",
        "print(MeanBcubed(vb_truth,vb_pred))\n",
        "precision_score(true, preds), recall_score(true, preds), f1_score(true, preds)"
      ]
    },
    {
      "cell_type": "code",
      "execution_count": 24,
      "metadata": {},
      "outputs": [
        {
          "name": "stdout",
          "output_type": "stream",
          "text": [
            "size    34.380975\n",
            "P        0.791557\n",
            "R        0.625336\n",
            "F1       0.566781\n",
            "dtype: float64\n"
          ]
        },
        {
          "data": {
            "text/plain": [
              "(0.4886924342105263, 0.6073071027082269, 0.541581225791752)"
            ]
          },
          "execution_count": 24,
          "metadata": {},
          "output_type": "execute_result"
        }
      ],
      "source": [
        "# features = ['font_diff2','crop_diff','text_d2v_sim_score']\n",
        "X_train = v2_plus_trunc\n",
        "y_train = c2['label']\n",
        "X_test = v1_plus_trunc\n",
        "y_test = c1['label']\n",
        "\n",
        "clf = MLPClassifier(\n",
        "    hidden_layer_sizes = (128,),\n",
        "    batch_size = 50,\n",
        "    solver = 'adam',\n",
        "    verbose = 0\n",
        ")\n",
        "\n",
        "clf.fit(X_train, y_train)\n",
        "\n",
        "true = y_test\n",
        "preds = clf.predict(X_test)\n",
        "vb_truth, vb_pred = change_format(y_test.values), change_format(clf.predict(X_test))\n",
        "print(MeanBcubed(vb_truth,vb_pred))\n",
        "precision_score(true, preds), recall_score(true, preds), f1_score(true, preds)"
      ]
    },
    {
      "cell_type": "code",
      "execution_count": 61,
      "metadata": {},
      "outputs": [
        {
          "data": {
            "text/plain": [
              "<AxesSubplot:>"
            ]
          },
          "execution_count": 61,
          "metadata": {},
          "output_type": "execute_result"
        },
        {
          "data": {
            "image/png": "[encoded data removed]",
            "text/plain": [
              "<Figure size 432x288 with 1 Axes>"
            ]
          },
          "metadata": {
            "needs_background": "light"
          },
          "output_type": "display_data"
        }
      ],
      "source": [
        "import matplotlib as plt\n",
        "\n",
        "_c1['bert_proba'][:100].plot()\n",
        "_c1['label'].apply(lambda x: 0 if x == 1 else 1)[:100].plot()"
      ]
    }
  ],
  "metadata": {
    "colab": {
      "collapsed_sections": [],
      "name": "bert.ipynb",
      "provenance": []
    },
    "interpreter": {
      "hash": "b0ef08d8ed6cc4ea55e1d44bd248b5018e6b6290053252328e46dd8d04768404"
    },
    "kernelspec": {
      "display_name": "Python 3.7.13 ('thesis8')",
      "language": "python",
      "name": "python3"
    },
    "language_info": {
      "codemirror_mode": {
        "name": "ipython",
        "version": 3
      },
      "file_extension": ".py",
      "mimetype": "text/x-python",
      "name": "python",
      "nbconvert_exporter": "python",
      "pygments_lexer": "ipython3",
      "version": "3.7.13"
    }
  },
  "nbformat": 4,
  "nbformat_minor": 0
}
