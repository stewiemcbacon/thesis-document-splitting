{
 "cells": [
  {
   "cell_type": "code",
   "execution_count": 1,
   "metadata": {},
   "outputs": [],
   "source": [
    "from sklearn.feature_extraction.text import TfidfVectorizer\n",
    "import pandas as pd\n",
    "from tqdm import tqdm\n",
    "from nltk.corpus import stopwords\n",
    "tqdm.pandas()\n",
    "from scipy.spatial.distance import cosine\n",
    "import numpy as np\n",
    "_stopwords = stopwords.words('dutch')"
   ]
  },
  {
   "cell_type": "code",
   "execution_count": 13,
   "metadata": {},
   "outputs": [],
   "source": [
    "c1 = pd.read_csv('dfs/c1.csv',index_col = 0)\n",
    "c2 = pd.read_csv('dfs/c2.csv',index_col = 0)"
   ]
  },
  {
   "cell_type": "code",
   "execution_count": 3,
   "metadata": {},
   "outputs": [],
   "source": [
    "def compare(df, vect):\n",
    "    it = iter(range(1,len(df)))\n",
    "    sims = [0]\n",
    "\n",
    "    for i in tqdm(it):\n",
    "        a = df.iloc[i]['text_y_cleaned']\n",
    "        b = df.iloc[i-1]['text_y_cleaned']\n",
    "\n",
    "        if pd.isnull(a):\n",
    "            j = i\n",
    "            skips = 1\n",
    "            j+=1\n",
    "            sims.append(0)\n",
    "\n",
    "            while pd.isnull(df.iloc[j]['text_y_cleaned']):\n",
    "                sims.append(0)\n",
    "                j+=1\n",
    "                skips+=1\n",
    "            \n",
    "            a = df.iloc[j]['text_y_cleaned']\n",
    "\n",
    "            a = vect.transform([a]).todense()\n",
    "            b = vect.transform([b]).todense()\n",
    "\n",
    "            sims.append(1-(cosine(a,b)))\n",
    "\n",
    "            for _ in range(skips):\n",
    "                i = next(it)\n",
    "\n",
    "        else:\n",
    "            a = vect.transform([a]).todense()\n",
    "            b = vect.transform([b]).todense()\n",
    "\n",
    "            sims.append(1-(cosine(a,b)))\n",
    "\n",
    "    return sims"
   ]
  },
  {
   "cell_type": "code",
   "execution_count": 4,
   "metadata": {},
   "outputs": [
    {
     "data": {
      "text/plain": [
       "TfidfVectorizer(stop_words=['de', 'en', 'van', 'ik', 'te', 'dat', 'die', 'in',\n",
       "                            'een', 'hij', 'het', 'niet', 'zijn', 'is', 'was',\n",
       "                            'op', 'aan', 'met', 'als', 'voor', 'had', 'er',\n",
       "                            'maar', 'om', 'hem', 'dan', 'zou', 'of', 'wat',\n",
       "                            'mijn', ...])"
      ]
     },
     "execution_count": 4,
     "metadata": {},
     "output_type": "execute_result"
    }
   ],
   "source": [
    "corpus1 = c1[~c1['text_y_cleaned'].isnull()]['text_y_cleaned'].values\n",
    "corpus2 = c2[~c2['text_y_cleaned'].isnull()]['text_y_cleaned'].values\n",
    "corpus = np.append(corpus1, corpus2)\n",
    "vect = TfidfVectorizer(stop_words = _stopwords)\n",
    "vect1 = TfidfVectorizer(stop_words = _stopwords)\n",
    "vect2 = TfidfVectorizer(stop_words = _stopwords)\n",
    "vect1.fit(corpus1)\n",
    "vect2.fit(corpus2)\n",
    "vect.fit(corpus)"
   ]
  },
  {
   "cell_type": "markdown",
   "metadata": {},
   "source": [
    "## TFIDF fit on Corpus2, compared to i-1 with skips"
   ]
  },
  {
   "cell_type": "code",
   "execution_count": 15,
   "metadata": {},
   "outputs": [
    {
     "name": "stderr",
     "output_type": "stream",
     "text": [
      "18116it [02:01, 149.22it/s]\n"
     ]
    }
   ],
   "source": [
    "c1['tfidf_sim'] = compare(c1, vect)\n",
    "c1[['full_name','page','text_y_cleaned','tfidf_sim','label']].to_csv('sim_scores/tfidf_skip_c1.csv')"
   ]
  },
  {
   "cell_type": "markdown",
   "metadata": {},
   "source": [
    "## TFIDF fit on Corpus1, compared to i-1 with skips"
   ]
  },
  {
   "cell_type": "code",
   "execution_count": 16,
   "metadata": {},
   "outputs": [
    {
     "name": "stderr",
     "output_type": "stream",
     "text": [
      "16294it [01:43, 158.15it/s]\n"
     ]
    }
   ],
   "source": [
    "c2['tfidf_sim'] = compare(c2, vect)\n",
    "c2[['full_name','page','text_y_cleaned','tfidf_sim','label']].to_csv('sim_scores/tfidf_skip_c2.csv')"
   ]
  },
  {
   "cell_type": "markdown",
   "metadata": {},
   "source": [
    "# Eval"
   ]
  },
  {
   "cell_type": "code",
   "execution_count": 17,
   "metadata": {},
   "outputs": [],
   "source": [
    "def change_format(y):\n",
    "    y[0] = 1\n",
    "    indices = [i for i, x in enumerate(y) if x == 1]+[len(y)-1]\n",
    "    result = []\n",
    "    for i in range(len(indices)):\n",
    "        if i != len(indices)-1:\n",
    "            result.append(indices[i+1] - indices[i])\n",
    "    result[-1]+=1\n",
    "    return result"
   ]
  },
  {
   "cell_type": "code",
   "execution_count": 18,
   "metadata": {},
   "outputs": [],
   "source": [
    "def make_index(split):\n",
    "    '''Turns a doc length vector like [1,2,1,3,3,5] into a dict with pagenumbers as keys and the set of all \n",
    "    pagenumbers in the same document as value.\n",
    "    This thus is an index which gives for every page its cluster.'''\n",
    "    l= sum(split)\n",
    "    pages= list(np.arange(l))\n",
    "    out = defaultdict(set)\n",
    "    for block_length in split:\n",
    "        block= pages[:block_length]\n",
    "        pages= pages[block_length:]\n",
    "        for page in block:\n",
    "            out[page]= set(block)\n",
    "    return out"
   ]
  },
  {
   "cell_type": "code",
   "execution_count": 19,
   "metadata": {},
   "outputs": [],
   "source": [
    "def Bcubed(truth,pred):\n",
    "    assert sum(truth)==sum(pred)  # same amount of pages\n",
    "    truth,pred = make_index(truth), make_index(pred)\n",
    "    \n",
    "    df  ={i:{'size':len(truth[i]),'P':0,'R':0,'F1':0} for i in truth}\n",
    "    for i in truth:\n",
    "        df[i]['P']= len(truth[i] & pred[i])/len(pred[i]) \n",
    "        df[i]['R']= len(truth[i] & pred[i])/len(truth[i])\n",
    "        df[i]['F1']= (2*df[i]['P']*df[i]['R'])/(df[i]['P']+df[i]['R'])\n",
    "    df= pd.DataFrame.from_dict(df, orient='index')\n",
    "    df.index_name='PageNr'\n",
    "    return  df\n",
    "\n",
    "\n",
    "def MeanBcubed(truth,pred):\n",
    "    assert sum(truth)==sum(pred)  # same amount of pages\n",
    "    return Bcubed(truth,pred).mean()"
   ]
  },
  {
   "cell_type": "code",
   "execution_count": 20,
   "metadata": {},
   "outputs": [],
   "source": [
    "from sklearn.linear_model import LogisticRegression\n",
    "from sklearn.tree import DecisionTreeClassifier\n",
    "from sklearn.metrics import precision_score, recall_score, f1_score\n",
    "from collections import defaultdict\n",
    "\n",
    "_c1 = c1[~pd.isnull(c1['text_y_cleaned'])]\n",
    "_c2 = c2[~pd.isnull(c2['text_y_cleaned'])]"
   ]
  },
  {
   "cell_type": "markdown",
   "metadata": {},
   "source": [
    "# Train on c2, predict c1"
   ]
  },
  {
   "cell_type": "code",
   "execution_count": 22,
   "metadata": {},
   "outputs": [
    {
     "name": "stdout",
     "output_type": "stream",
     "text": [
      "size    34.380170\n",
      "P        0.312589\n",
      "R        0.938343\n",
      "F1       0.349604\n",
      "dtype: float64\n"
     ]
    },
    {
     "data": {
      "text/plain": [
       "(0.6102062975027145, 0.14358712314767502, 0.23247156153050672)"
      ]
     },
     "execution_count": 22,
     "metadata": {},
     "output_type": "execute_result"
    }
   ],
   "source": [
    "features = ['font_diff3','crop_diff','tfidf_sim']\n",
    "\n",
    "X_train = c2[features]\n",
    "y_train = c2['label']\n",
    "X_test = c1[features]\n",
    "y_test = c1['label']\n",
    "\n",
    "model = LogisticRegression()\n",
    "\n",
    "model.fit(X_train, y_train)\n",
    "\n",
    "true = y_test\n",
    "preds = model.predict(X_test)\n",
    "vb_truth, vb_pred = change_format(y_test.values), change_format(model.predict(X_test))\n",
    "print(MeanBcubed(vb_truth,vb_pred))\n",
    "precision_score(true, preds), recall_score(true, preds), f1_score(true, preds)"
   ]
  },
  {
   "cell_type": "code",
   "execution_count": 23,
   "metadata": {},
   "outputs": [
    {
     "name": "stdout",
     "output_type": "stream",
     "text": [
      "size    34.403323\n",
      "P        0.344392\n",
      "R        0.944612\n",
      "F1       0.388065\n",
      "dtype: float64\n"
     ]
    },
    {
     "data": {
      "text/plain": [
       "(0.7188940092165899, 0.16305199895479489, 0.265814696485623)"
      ]
     },
     "execution_count": 23,
     "metadata": {},
     "output_type": "execute_result"
    }
   ],
   "source": [
    "features = ['font_diff3','crop_diff','tfidf_sim']\n",
    "\n",
    "X_train = _c2[features]\n",
    "y_train = _c2['label']\n",
    "X_test = _c1[features]\n",
    "y_test = _c1['label']\n",
    "\n",
    "model = LogisticRegression()\n",
    "\n",
    "model.fit(X_train, y_train)\n",
    "\n",
    "true = y_test\n",
    "preds = model.predict(X_test)\n",
    "vb_truth, vb_pred = change_format(y_test.values), change_format(model.predict(X_test))\n",
    "print(MeanBcubed(vb_truth,vb_pred))\n",
    "precision_score(true, preds), recall_score(true, preds), f1_score(true, preds)"
   ]
  },
  {
   "cell_type": "markdown",
   "metadata": {},
   "source": [
    "# Train on c1, predict c2"
   ]
  },
  {
   "cell_type": "code",
   "execution_count": 24,
   "metadata": {},
   "outputs": [
    {
     "name": "stdout",
     "output_type": "stream",
     "text": [
      "size    68.910383\n",
      "P        0.435097\n",
      "R        0.832891\n",
      "F1       0.355189\n",
      "dtype: float64\n"
     ]
    },
    {
     "data": {
      "text/plain": [
       "(0.4143884892086331, 0.27131417804992936, 0.32792485055508114)"
      ]
     },
     "execution_count": 24,
     "metadata": {},
     "output_type": "execute_result"
    }
   ],
   "source": [
    "features = ['font_diff3','crop_diff','tfidf_sim']\n",
    "\n",
    "X_train = c1[features]\n",
    "y_train = c1['label']\n",
    "X_test = c2[features]\n",
    "y_test = c2['label']\n",
    "\n",
    "model = LogisticRegression()\n",
    "\n",
    "model.fit(X_train, y_train)\n",
    "\n",
    "true = y_test\n",
    "preds = model.predict(X_test)\n",
    "vb_truth, vb_pred = change_format(y_test.values), change_format(model.predict(X_test))\n",
    "print(MeanBcubed(vb_truth,vb_pred))\n",
    "precision_score(true, preds), recall_score(true, preds), f1_score(true, preds)"
   ]
  },
  {
   "cell_type": "code",
   "execution_count": 25,
   "metadata": {},
   "outputs": [
    {
     "name": "stdout",
     "output_type": "stream",
     "text": [
      "size    69.707824\n",
      "P        0.523023\n",
      "R        0.804469\n",
      "F1       0.426743\n",
      "dtype: float64\n"
     ]
    },
    {
     "data": {
      "text/plain": [
       "(0.4298941798941799, 0.313102119460501, 0.3623188405797102)"
      ]
     },
     "execution_count": 25,
     "metadata": {},
     "output_type": "execute_result"
    }
   ],
   "source": [
    "features = ['font_diff3','crop_diff','tfidf_sim']\n",
    "\n",
    "X_train = _c1[features]\n",
    "y_train = _c1['label']\n",
    "X_test = _c2[features]\n",
    "y_test = _c2['label']\n",
    "\n",
    "model = LogisticRegression()\n",
    "\n",
    "model.fit(X_train, y_train)\n",
    "\n",
    "true = y_test\n",
    "preds = model.predict(X_test)\n",
    "vb_truth, vb_pred = change_format(y_test.values), change_format(model.predict(X_test))\n",
    "print(MeanBcubed(vb_truth,vb_pred))\n",
    "precision_score(true, preds), recall_score(true, preds), f1_score(true, preds)"
   ]
  },
  {
   "cell_type": "code",
   "execution_count": 15,
   "metadata": {},
   "outputs": [
    {
     "data": {
      "text/plain": [
       "<AxesSubplot:>"
      ]
     },
     "execution_count": 15,
     "metadata": {},
     "output_type": "execute_result"
    },
    {
     "data": {
      "image/png": "[encoded data removed]",
      "text/plain": [
       "<Figure size 432x288 with 1 Axes>"
      ]
     },
     "metadata": {
      "needs_background": "light"
     },
     "output_type": "display_data"
    }
   ],
   "source": [
    "import matplotlib as plt\n",
    "\n",
    "_c1['tfidf_sim'][:100].plot()\n",
    "_c1['label'].apply(lambda x: 0 if x == 1 else .6)[:100].plot()"
   ]
  },
  {
   "cell_type": "code",
   "execution_count": 12,
   "metadata": {},
   "outputs": [],
   "source": [
    "# import re\n",
    "# for i in range(len(c1[['file_name','page','text_y','label']])):\n",
    "#     display(re.sub('\\n', ' ', _c1.iloc[i]['text_y']))\n",
    "#     if i == 500:\n",
    "#         break"
   ]
  }
 ],
 "metadata": {
  "interpreter": {
   "hash": "b0ef08d8ed6cc4ea55e1d44bd248b5018e6b6290053252328e46dd8d04768404"
  },
  "kernelspec": {
   "display_name": "Python 3.7.13 ('thesis8')",
   "language": "python",
   "name": "python3"
  },
  "language_info": {
   "codemirror_mode": {
    "name": "ipython",
    "version": 3
   },
   "file_extension": ".py",
   "mimetype": "text/x-python",
   "name": "python",
   "nbconvert_exporter": "python",
   "pygments_lexer": "ipython3",
   "version": "3.7.13"
  },
  "orig_nbformat": 4
 },
 "nbformat": 4,
 "nbformat_minor": 2
}
